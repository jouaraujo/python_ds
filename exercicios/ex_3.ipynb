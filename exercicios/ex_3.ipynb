{
 "cells": [
  {
   "cell_type": "markdown",
   "metadata": {},
   "source": [
    "#### Exercícios resolvidos"
   ]
  },
  {
   "cell_type": "code",
   "execution_count": 1,
   "metadata": {},
   "outputs": [
    {
     "data": {
      "text/plain": [
       "'\\n1. Faça um programa que crie três variáveis, var1, var2 e var3.\\nAtribua qualquer valor numérico às variáveis e imprima qual é a maior delas e seu valor.\\n'"
      ]
     },
     "execution_count": 1,
     "metadata": {},
     "output_type": "execute_result"
    }
   ],
   "source": [
    "'''\n",
    "1. Faça um programa que crie três variáveis, var1, var2 e var3.\n",
    "Atribua qualquer valor numérico às variáveis e imprima qual é a maior delas e seu valor.\n",
    "'''"
   ]
  },
  {
   "cell_type": "code",
   "execution_count": 5,
   "metadata": {},
   "outputs": [],
   "source": [
    "var1 = 13\n",
    "var2 = 27\n",
    "var3 = 8"
   ]
  },
  {
   "cell_type": "code",
   "execution_count": 6,
   "metadata": {},
   "outputs": [
    {
     "name": "stdout",
     "output_type": "stream",
     "text": [
      "O maior valor é 27 e está armazenado em var2\n"
     ]
    }
   ],
   "source": [
    "if (var1 > var2) and (var1 > var3):\n",
    "    print(f'O maior valor é {var1} e está armazenado em var1')\n",
    "elif (var2 > var1) and (var2 > var3):\n",
    "    print(f'O maior valor é {var2} e está armazenado em var2')\n",
    "elif (var3 > var1) and (var3 > var2):\n",
    "    print(f'O maior valor é {var3} e está armazenado em var3')"
   ]
  },
  {
   "cell_type": "code",
   "execution_count": 7,
   "metadata": {},
   "outputs": [
    {
     "data": {
      "text/plain": [
       "'\\n2. Crie um programa com três variáveis, lado1, lado2 e lado3, e inicie-as\\ncom quaisquer valores numéricos. Imprima na saída se esses tamanhos de lados formam\\nou não um triângulo.\\n'"
      ]
     },
     "execution_count": 7,
     "metadata": {},
     "output_type": "execute_result"
    }
   ],
   "source": [
    "'''\n",
    "2. Crie um programa com três variáveis, lado1, lado2 e lado3, e inicie-as\n",
    "com quaisquer valores numéricos. Imprima na saída se esses tamanhos de lados formam\n",
    "ou não um triângulo.\n",
    "'''"
   ]
  },
  {
   "cell_type": "code",
   "execution_count": 8,
   "metadata": {},
   "outputs": [],
   "source": [
    "lado1 = 3\n",
    "lado2 = 8\n",
    "lado3 = 10"
   ]
  },
  {
   "cell_type": "code",
   "execution_count": 9,
   "metadata": {},
   "outputs": [
    {
     "name": "stdout",
     "output_type": "stream",
     "text": [
      "Os valores fornecidos FORMAM um triângulo.\n"
     ]
    }
   ],
   "source": [
    "resultado = False\n",
    "if (lado2 + lado3 > lado1) and (lado1 + lado3 > lado2) and \\\n",
    "    (lado1 + lado2 > lado3):\n",
    "    print('Os valores fornecidos FORMAM um triângulo.')\n",
    "else:\n",
    "    print('Os valores fornecidos NÃO FORMAM um triângulo.')"
   ]
  },
  {
   "cell_type": "code",
   "execution_count": 10,
   "metadata": {},
   "outputs": [
    {
     "data": {
      "text/plain": [
       "'\\n3. O trecho de programa a seguir inicializa a variável numero_aleatorio com um \\nvalor randômico inteiro. Pede-se: altere o programa para que ele imprima na tela o valor\\nque foi usado na execução atual, e se esse valor é positivo, negativo ou netro.\\n'"
      ]
     },
     "execution_count": 10,
     "metadata": {},
     "output_type": "execute_result"
    }
   ],
   "source": [
    "'''\n",
    "3. O trecho de programa a seguir inicializa a variável numero_aleatorio com um \n",
    "valor randômico inteiro. Pede-se: altere o programa para que ele imprima na tela o valor\n",
    "que foi usado na execução atual, e se esse valor é positivo, negativo ou netro.\n",
    "'''"
   ]
  },
  {
   "cell_type": "code",
   "execution_count": 11,
   "metadata": {},
   "outputs": [],
   "source": [
    "import random"
   ]
  },
  {
   "cell_type": "code",
   "execution_count": 21,
   "metadata": {},
   "outputs": [
    {
     "data": {
      "text/plain": [
       "63"
      ]
     },
     "execution_count": 21,
     "metadata": {},
     "output_type": "execute_result"
    }
   ],
   "source": [
    "numero_aleatorio = random.randint(-100,101) # Gera um número entre -100 e 100\n",
    "numero_aleatorio"
   ]
  },
  {
   "cell_type": "code",
   "execution_count": 22,
   "metadata": {},
   "outputs": [
    {
     "name": "stdout",
     "output_type": "stream",
     "text": [
      "O número 63 é positivo\n"
     ]
    }
   ],
   "source": [
    "if numero_aleatorio > 0:\n",
    "    print(f'O número {numero_aleatorio} é positivo')\n",
    "elif numero_aleatorio < 0:\n",
    "    print(f'O número {numero_aleatorio} negativo')\n",
    "else:\n",
    "    print(f'O número {numero_aleatorio} neutro')"
   ]
  },
  {
   "cell_type": "markdown",
   "metadata": {},
   "source": [
    "#### Exercícios propostos"
   ]
  },
  {
   "cell_type": "code",
   "execution_count": 23,
   "metadata": {},
   "outputs": [
    {
     "data": {
      "text/plain": [
       "'\\n1. Faça um programa que crie três variáveis, var1, var2, var3.\\nAtribua qualquer valor numérico às variáveis e imprima qual é a mediana\\ndelas e seu valor (Dica: a mediana é o \"valor central\" -- é aquele que fica entre \\na menor e a maior do conjunto)\\n'"
      ]
     },
     "execution_count": 23,
     "metadata": {},
     "output_type": "execute_result"
    }
   ],
   "source": [
    "'''\n",
    "1. Faça um programa que crie três variáveis, var1, var2, var3.\n",
    "Atribua qualquer valor numérico às variáveis e imprima qual é a mediana\n",
    "delas e seu valor (Dica: a mediana é o \"valor central\" -- é aquele que fica entre \n",
    "a menor e a maior do conjunto)\n",
    "'''"
   ]
  },
  {
   "cell_type": "code",
   "execution_count": 24,
   "metadata": {},
   "outputs": [],
   "source": [
    "import pandas as pd"
   ]
  },
  {
   "cell_type": "code",
   "execution_count": 45,
   "metadata": {},
   "outputs": [
    {
     "name": "stdout",
     "output_type": "stream",
     "text": [
      "42\n",
      "89\n",
      "18\n"
     ]
    }
   ],
   "source": [
    "var1 = random.randint(-100,101)\n",
    "var2 = random.randint(-100,101)\n",
    "var3 = random.randint(-100,101)\n",
    "print(var1)\n",
    "print(var2)\n",
    "print(var3)"
   ]
  },
  {
   "cell_type": "code",
   "execution_count": 46,
   "metadata": {},
   "outputs": [
    {
     "data": {
      "text/plain": [
       "42.0"
      ]
     },
     "execution_count": 46,
     "metadata": {},
     "output_type": "execute_result"
    }
   ],
   "source": [
    "new_var = pd.Series([var1, var2, var3])\n",
    "new_var.median()\n",
    "\n"
   ]
  },
  {
   "cell_type": "code",
   "execution_count": 47,
   "metadata": {},
   "outputs": [
    {
     "name": "stdout",
     "output_type": "stream",
     "text": [
      "A mediana é a var1 que é 42\n"
     ]
    }
   ],
   "source": [
    "# sem biblioteca\n",
    "if (var1 > var2) and (var1 < var3):\n",
    "    print(f'A mediana é a var1 que é {var1}')\n",
    "elif (var1 > var3) and (var1 < var2):\n",
    "    print(f'A mediana é a var1 que é {var1}')\n",
    "elif (var2 > var1 ) and (var2 < var3):\n",
    "    print(f'A mediana é a var2 que é {var2}')\n",
    "elif (var2 > var3 ) and (var2 < var1):\n",
    "    print(f'A mediana é a var2 que é {var2}')\n",
    "elif (var3 > var1) and (var3 < var2):\n",
    "    print(f'A mediana é a var3 que é {var3}') \n",
    "elif (var3 > var2) and (var3 < var1):\n",
    "    print(f'A mediana é a var3 que é {var3}')"
   ]
  },
  {
   "cell_type": "code",
   "execution_count": 48,
   "metadata": {},
   "outputs": [
    {
     "data": {
      "text/plain": [
       "'\\n2. Crie um programa com três variáveis, lado1, lado2 e lado3,\\ne inicie-as com quaisquer valores numéricos. Imprima na saída\\nse esses tamanhos de lados formam ou não um triângulo retângulo.\\n(Dica: Use o teorema de Pitágoras - \"O quadrado da hipotenusa é igual à soma\\ndos quadrados dos catetos.\")\\n'"
      ]
     },
     "execution_count": 48,
     "metadata": {},
     "output_type": "execute_result"
    }
   ],
   "source": [
    "'''\n",
    "2. Crie um programa com três variáveis, lado1, lado2 e lado3,\n",
    "e inicie-as com quaisquer valores numéricos. Imprima na saída\n",
    "se esses tamanhos de lados formam ou não um triângulo retângulo.\n",
    "(Dica: Use o teorema de Pitágoras - \"O quadrado da hipotenusa é igual à soma\n",
    "dos quadrados dos catetos.\")\n",
    "'''"
   ]
  },
  {
   "cell_type": "code",
   "execution_count": 54,
   "metadata": {},
   "outputs": [],
   "source": [
    "lado1 = 17\n",
    "lado2 = 8\n",
    "lado3 = 15"
   ]
  },
  {
   "cell_type": "code",
   "execution_count": 55,
   "metadata": {},
   "outputs": [
    {
     "name": "stdout",
     "output_type": "stream",
     "text": [
      "É um triângulo retângulo.\n"
     ]
    }
   ],
   "source": [
    "if lado1**2 == lado2**2 + lado3**2:\n",
    "    print('É um triângulo retângulo.')\n",
    "else:\n",
    "    print('Não é um triângulo retângulo.')"
   ]
  },
  {
   "cell_type": "code",
   "execution_count": 58,
   "metadata": {},
   "outputs": [
    {
     "data": {
      "text/plain": [
       "'\\n3. Crie um programa que simule um jogo de sorteio com duas bolas:\\numa vermelho e outra azul. Após des execuções, informe qual cor foi\\na mais sorteada e as quantidades de cada uma. (Dica: use a função \\nrandom.randint(), citado no exercício resolvido 3.)\\n'"
      ]
     },
     "execution_count": 58,
     "metadata": {},
     "output_type": "execute_result"
    }
   ],
   "source": [
    "'''\n",
    "3. Crie um programa que simule um jogo de sorteio com duas bolas:\n",
    "uma vermelho e outra azul. Após des execuções, informe qual cor foi\n",
    "a mais sorteada e as quantidades de cada uma. (Dica: use a função \n",
    "random.randint(), citado no exercício resolvido 3.)\n",
    "'''"
   ]
  },
  {
   "cell_type": "code",
   "execution_count": 67,
   "metadata": {},
   "outputs": [
    {
     "name": "stdout",
     "output_type": "stream",
     "text": [
      "Quantidade de bolas azuis: 9\n",
      "Quantidade de bolas vermelhas: 11\n"
     ]
    }
   ],
   "source": [
    "contador = 0\n",
    "bola_azul = 0\n",
    "bola_vermelha = 0\n",
    "\n",
    "while contador < 10:  \n",
    "    bola1 = random.randint(0, 1) \n",
    "    bola2 = random.randint(0, 1)\n",
    "    if bola1 == 0:\n",
    "        bola_azul += 1\n",
    "    else:\n",
    "        bola_vermelha += 1\n",
    "    if bola2 == 0:\n",
    "        bola_azul += 1\n",
    "    else:\n",
    "        bola_vermelha += 1\n",
    "    contador += 1\n",
    "\n",
    "print(f'Quantidade de bolas azuis: {bola_azul}')\n",
    "print(f'Quantidade de bolas vermelhas: {bola_vermelha}')"
   ]
  }
 ],
 "metadata": {
  "kernelspec": {
   "display_name": "base",
   "language": "python",
   "name": "python3"
  },
  "language_info": {
   "codemirror_mode": {
    "name": "ipython",
    "version": 3
   },
   "file_extension": ".py",
   "mimetype": "text/x-python",
   "name": "python",
   "nbconvert_exporter": "python",
   "pygments_lexer": "ipython3",
   "version": "3.11.7"
  }
 },
 "nbformat": 4,
 "nbformat_minor": 2
}
