{
 "cells": [
  {
   "cell_type": "markdown",
   "metadata": {},
   "source": [
    "#### Exercícios resolvidos"
   ]
  },
  {
   "cell_type": "code",
   "execution_count": 1,
   "metadata": {},
   "outputs": [
    {
     "data": {
      "text/plain": [
       "'\\n1. Crie uma nova pasta em seu computador, chamada exercícios. Abra o Jupyter Notebook e \\naltere a pasta de trabalho para ele. Crie um novo bloco de notas. Insira algum comentário\\nno código. Defina, nesse bloco de notas, duas variávei, nome e idade, contendo seus dados,\\ne em outra célula, imprima \"Nome: seu nome, Idade: sua idade\", interpolando as variáveis\\nno lugar das expressões em negrito.\\n'"
      ]
     },
     "execution_count": 1,
     "metadata": {},
     "output_type": "execute_result"
    }
   ],
   "source": [
    "\"\"\"\n",
    "1. Crie uma nova pasta em seu computador, chamada exercícios. Abra o Jupyter Notebook e \n",
    "altere a pasta de trabalho para ele. Crie um novo bloco de notas. Insira algum comentário\n",
    "no código. Defina, nesse bloco de notas, duas variávei, nome e idade, contendo seus dados,\n",
    "e em outra célula, imprima \"Nome: seu nome, Idade: sua idade\", interpolando as variáveis\n",
    "no lugar das expressões em negrito.\n",
    "\"\"\""
   ]
  },
  {
   "cell_type": "code",
   "execution_count": 2,
   "metadata": {},
   "outputs": [],
   "source": [
    "nome = 'Jonatan'\n",
    "idade = 24"
   ]
  },
  {
   "cell_type": "code",
   "execution_count": 3,
   "metadata": {},
   "outputs": [
    {
     "name": "stdout",
     "output_type": "stream",
     "text": [
      "Nome: Jonatan, Idade 24\n"
     ]
    }
   ],
   "source": [
    "print(f'Nome: {nome}, Idade {idade}')"
   ]
  },
  {
   "cell_type": "code",
   "execution_count": 4,
   "metadata": {},
   "outputs": [
    {
     "data": {
      "text/plain": [
       "'\\n2. Adicione uma linha com os seguintes caracteres: \\'s, \"x\" e \\\\\\n'"
      ]
     },
     "execution_count": 4,
     "metadata": {},
     "output_type": "execute_result"
    }
   ],
   "source": [
    "\"\"\"\n",
    "2. Adicione uma linha com os seguintes caracteres: 's, \"x\" e \\\\\n",
    "\"\"\""
   ]
  },
  {
   "cell_type": "code",
   "execution_count": 5,
   "metadata": {},
   "outputs": [
    {
     "name": "stdout",
     "output_type": "stream",
     "text": [
      "'s, \"x\", \\\\\n"
     ]
    }
   ],
   "source": [
    "print('\\'s, \\\"x\", \\\\\\\\')"
   ]
  },
  {
   "cell_type": "code",
   "execution_count": 6,
   "metadata": {},
   "outputs": [
    {
     "data": {
      "text/plain": [
       "'\\n3. Crie uma variável Pi e inicialize-a com 3.1415926. Imprima: Pais\\n'"
      ]
     },
     "execution_count": 6,
     "metadata": {},
     "output_type": "execute_result"
    }
   ],
   "source": [
    "\"\"\"\n",
    "3. Crie uma variável Pi e inicialize-a com 3.1415926. Imprima: Pais\n",
    "\"\"\""
   ]
  },
  {
   "cell_type": "code",
   "execution_count": 9,
   "metadata": {},
   "outputs": [
    {
     "name": "stdout",
     "output_type": "stream",
     "text": [
      "Pi com duas casas decimais é 3.14\n"
     ]
    }
   ],
   "source": [
    "Pi = 3.1415926\n",
    "print(f'Pi com duas casas decimais é {Pi:.2f}')"
   ]
  },
  {
   "cell_type": "code",
   "execution_count": 10,
   "metadata": {},
   "outputs": [
    {
     "data": {
      "text/plain": [
       "'\\n4. Imprima o valor de (5 * 7) - ((6 * 4) + (20 / 2))\\n'"
      ]
     },
     "execution_count": 10,
     "metadata": {},
     "output_type": "execute_result"
    }
   ],
   "source": [
    "\"\"\"\n",
    "4. Imprima o valor de (5 * 7) - ((6 * 4) + (20 / 2))\n",
    "\"\"\""
   ]
  },
  {
   "cell_type": "code",
   "execution_count": 11,
   "metadata": {},
   "outputs": [
    {
     "name": "stdout",
     "output_type": "stream",
     "text": [
      "1.0\n"
     ]
    }
   ],
   "source": [
    "print((5 * 7) - ((6 * 4) + (20 / 2)))"
   ]
  },
  {
   "cell_type": "markdown",
   "metadata": {},
   "source": [
    "#### Exercícios propostos"
   ]
  },
  {
   "cell_type": "code",
   "execution_count": 19,
   "metadata": {},
   "outputs": [
    {
     "data": {
      "text/plain": [
       "'\\n1. Inicie o Spyder e crie um novo arquivo. Repita os passos do exercício resolvido\\ne salve o resultado em um arquivo.py\\n'"
      ]
     },
     "execution_count": 19,
     "metadata": {},
     "output_type": "execute_result"
    }
   ],
   "source": [
    "\"\"\"\n",
    "1. Inicie o Spyder e crie um novo arquivo. Repita os passos do exercício resolvido\n",
    "e salve o resultado em um arquivo.py\n",
    "\"\"\""
   ]
  },
  {
   "cell_type": "code",
   "execution_count": 21,
   "metadata": {},
   "outputs": [
    {
     "data": {
      "text/plain": [
       "'\\n2. Crie uma variável denominada eh_impar e inicialize-a com o resultado\\n(57 % 2 == 0). Imprima seu conteúdo na tela. Por que o resultado foi booleano,\\ne não um valor numérico?\\n'"
      ]
     },
     "execution_count": 21,
     "metadata": {},
     "output_type": "execute_result"
    }
   ],
   "source": [
    "\"\"\"\n",
    "2. Crie uma variável denominada eh_impar e inicialize-a com o resultado\n",
    "(57 % 2 == 0). Imprima seu conteúdo na tela. Por que o resultado foi booleano,\n",
    "e não um valor numérico?\n",
    "\"\"\""
   ]
  },
  {
   "cell_type": "code",
   "execution_count": 23,
   "metadata": {},
   "outputs": [
    {
     "name": "stdout",
     "output_type": "stream",
     "text": [
      "False\n"
     ]
    }
   ],
   "source": [
    "eh_impar = (57 % 2 == 0)\n",
    "\n",
    "print(eh_impar)"
   ]
  },
  {
   "cell_type": "code",
   "execution_count": 24,
   "metadata": {},
   "outputs": [
    {
     "data": {
      "text/plain": [
       "'\\nUm operador de igualdade retorna um booleano\\n'"
      ]
     },
     "execution_count": 24,
     "metadata": {},
     "output_type": "execute_result"
    }
   ],
   "source": [
    "\"\"\"\n",
    "Um operador de igualdade retorna um booleano\n",
    "\"\"\""
   ]
  },
  {
   "cell_type": "code",
   "execution_count": 25,
   "metadata": {},
   "outputs": [
    {
     "data": {
      "text/plain": [
       "'\\n3. Crie um programa com três variáveis a, b e c, que contenham os \\ncoeficientes de uma equação de grau 2 (inicialize-os com qualquer valor\\nnumérico que desejar (em um caso real, esses valores seriam lidos de um\\narquivo ou fornecido via teclado, mas, para as necessidades de capítulo,\\neles devem ser entrados diretamente no código) e imprima o valor do discriminante \\nda equação, de acordo com a fórmula de Bhaskara.)\\n'"
      ]
     },
     "execution_count": 25,
     "metadata": {},
     "output_type": "execute_result"
    }
   ],
   "source": [
    "\"\"\"\n",
    "3. Crie um programa com três variáveis a, b e c, que contenham os \n",
    "coeficientes de uma equação de grau 2 (inicialize-os com qualquer valor\n",
    "numérico que desejar (em um caso real, esses valores seriam lidos de um\n",
    "arquivo ou fornecido via teclado, mas, para as necessidades de capítulo,\n",
    "eles devem ser entrados diretamente no código) e imprima o valor do discriminante \n",
    "da equação, de acordo com a fórmula de Bhaskara.)\n",
    "\"\"\""
   ]
  },
  {
   "cell_type": "code",
   "execution_count": 26,
   "metadata": {},
   "outputs": [
    {
     "name": "stdout",
     "output_type": "stream",
     "text": [
      "O discriminante é -92\n"
     ]
    }
   ],
   "source": [
    "a = 3\n",
    "b = 2\n",
    "c = 8\n",
    "\n",
    "print(f\"O discriminante é {b ** 2 - 4 * a * c}\")"
   ]
  },
  {
   "cell_type": "code",
   "execution_count": 27,
   "metadata": {},
   "outputs": [
    {
     "data": {
      "text/plain": [
       "'\\n4. Converrta o código da questão anterior em uma função de nome delta(),\\nsem parâmetros. Como fazer para passar os valores de a, b e c para delta()?\\n'"
      ]
     },
     "execution_count": 27,
     "metadata": {},
     "output_type": "execute_result"
    }
   ],
   "source": [
    "\"\"\"\n",
    "4. Converrta o código da questão anterior em uma função de nome delta(),\n",
    "sem parâmetros. Como fazer para passar os valores de a, b e c para delta()?\n",
    "\"\"\""
   ]
  },
  {
   "cell_type": "code",
   "execution_count": 35,
   "metadata": {},
   "outputs": [
    {
     "name": "stdout",
     "output_type": "stream",
     "text": [
      "O discriminante é 12\n"
     ]
    }
   ],
   "source": [
    "def delta():\n",
    "    a = int(input(\"a:\"))\n",
    "    b = int(input(\"b:\"))\n",
    "    c = int(input(\"c:\"))\n",
    "    print(f\"O discriminante é {b ** 2 - 4 * a * c}\")\n",
    "\n",
    "\n",
    "delta()"
   ]
  },
  {
   "cell_type": "code",
   "execution_count": 36,
   "metadata": {},
   "outputs": [
    {
     "data": {
      "text/plain": [
       "'\\n5. Declare três variáveis denominadas palavra, numero e booleano\\ne atribua-lhes os valores iniciais \"teste\", 15 e True.\\nEm seguida, imprima duas linhas que mostram seus conteúdos, interpolados\\ncom testos. Para a primeira linha, use o operador %, e, para a segunda, \\nutilize uma f-string. seu resultado deve ser semelhante a:\\n\\nUsando %: palavra = \\'Teste,numero = 15 e booleano = True.\\nUsando f-string: palavra = \\'Teste\\',numero = 15 e booleano = True.\\n'"
      ]
     },
     "execution_count": 36,
     "metadata": {},
     "output_type": "execute_result"
    }
   ],
   "source": [
    "\"\"\"\n",
    "5. Declare três variáveis denominadas palavra, numero e booleano\n",
    "e atribua-lhes os valores iniciais \"teste\", 15 e True.\n",
    "Em seguida, imprima duas linhas que mostram seus conteúdos, interpolados\n",
    "com testos. Para a primeira linha, use o operador %, e, para a segunda, \n",
    "utilize uma f-string. seu resultado deve ser semelhante a:\n",
    "\n",
    "Usando %: palavra = 'Teste,numero = 15 e booleano = True.\n",
    "Usando f-string: palavra = 'Teste',numero = 15 e booleano = True.\n",
    "\"\"\""
   ]
  },
  {
   "cell_type": "code",
   "execution_count": 42,
   "metadata": {},
   "outputs": [
    {
     "name": "stdout",
     "output_type": "stream",
     "text": [
      "palavra =  Teste numero =  15 e booleano =  True\n",
      "palavra = Teste, numero = 15 e booleano = True\n"
     ]
    }
   ],
   "source": [
    "palavra = 'Teste'\n",
    "numero = 15\n",
    "booleano = True\n",
    "print('palavra = ', palavra, 'numero = ', numero, 'e booleano = ', booleano)\n",
    "print(f'palavra = {palavra}, numero = {numero} e booleano = {booleano}')"
   ]
  }
 ],
 "metadata": {
  "kernelspec": {
   "display_name": "base",
   "language": "python",
   "name": "python3"
  },
  "language_info": {
   "codemirror_mode": {
    "name": "ipython",
    "version": 3
   },
   "file_extension": ".py",
   "mimetype": "text/x-python",
   "name": "python",
   "nbconvert_exporter": "python",
   "pygments_lexer": "ipython3",
   "version": "3.11.7"
  }
 },
 "nbformat": 4,
 "nbformat_minor": 2
}
