{
 "cells": [
  {
   "cell_type": "markdown",
   "metadata": {},
   "source": [
    "#### Exercícios resolvidos"
   ]
  },
  {
   "cell_type": "code",
   "execution_count": 1,
   "metadata": {},
   "outputs": [
    {
     "data": {
      "text/plain": [
       "'\\n1. Crie uma variável chamada valores e armazene nela os números de 1 a 10. Imprima o sétimo elemento\\nda lista e, na linha seguinte, o conteúdo da lista completa.\\n'"
      ]
     },
     "execution_count": 1,
     "metadata": {},
     "output_type": "execute_result"
    }
   ],
   "source": [
    "'''\n",
    "1. Crie uma variável chamada valores e armazene nela os números de 1 a 10. Imprima o sétimo elemento\n",
    "da lista e, na linha seguinte, o conteúdo da lista completa.\n",
    "'''"
   ]
  },
  {
   "cell_type": "code",
   "execution_count": 8,
   "metadata": {},
   "outputs": [
    {
     "data": {
      "text/plain": [
       "[1, 2, 3, 4, 5, 6, 7, 8, 9, 10]"
      ]
     },
     "execution_count": 8,
     "metadata": {},
     "output_type": "execute_result"
    }
   ],
   "source": [
    "valores = [1, 2, 3, 4, 5, 6, 7, 8, 9, 10]\n",
    "valores"
   ]
  },
  {
   "cell_type": "code",
   "execution_count": 11,
   "metadata": {},
   "outputs": [
    {
     "name": "stdout",
     "output_type": "stream",
     "text": [
      "O sétimo elemento da lista é: 7\n"
     ]
    }
   ],
   "source": [
    "print(f'O sétimo elemento da lista é: {valores[6]}')"
   ]
  },
  {
   "cell_type": "code",
   "execution_count": 12,
   "metadata": {},
   "outputs": [
    {
     "name": "stdout",
     "output_type": "stream",
     "text": [
      "E o conteúdo da lista completa: [1, 2, 3, 4, 5, 6, 7, 8, 9, 10]\n"
     ]
    }
   ],
   "source": [
    "print(f'E o conteúdo da lista completa: {valores[0:]}')"
   ]
  },
  {
   "cell_type": "code",
   "execution_count": null,
   "metadata": {},
   "outputs": [],
   "source": [
    "'''\n",
    "2. Altere o programa anterior, acrescentando uma variável chamada numeros_extensos, contendo os\n",
    "números da questão anterior, escritos por extenso, e uma lista composta, contendo as duas listas\n",
    "anteriores. Imprima seus conteúdos na saída padrão. Imprima o valor numérico e por extenso do \n",
    "primeiro e do último elemento da lista.\n",
    "'''"
   ]
  },
  {
   "cell_type": "code",
   "execution_count": 13,
   "metadata": {},
   "outputs": [],
   "source": [
    "numeros_extensos = ['um', 'dois', 'três', 'quatro', 'cinco', 'seis',\n",
    "                    'sete', 'oito', 'nove', 'dez']"
   ]
  },
  {
   "cell_type": "code",
   "execution_count": 17,
   "metadata": {},
   "outputs": [],
   "source": [
    "lista_numeros = [valores, numeros_extensos]"
   ]
  },
  {
   "cell_type": "code",
   "execution_count": 19,
   "metadata": {},
   "outputs": [
    {
     "name": "stdout",
     "output_type": "stream",
     "text": [
      "Conteúdo da lista: [[1, 2, 3, 4, 5, 6, 7, 8, 9, 10], ['um', 'dois', 'três', 'quatro', 'cinco', 'seis', 'sete', 'oito', 'nove', 'dez']]\n"
     ]
    }
   ],
   "source": [
    "print(f'Conteúdo da lista: {lista_numeros}')"
   ]
  },
  {
   "cell_type": "code",
   "execution_count": 20,
   "metadata": {},
   "outputs": [
    {
     "name": "stdout",
     "output_type": "stream",
     "text": [
      "Primeiro elemento da lista: 1 - um\n"
     ]
    }
   ],
   "source": [
    "print(f'Primeiro elemento da lista: {lista_numeros[0][0]} - {lista_numeros[1][0]}')"
   ]
  },
  {
   "cell_type": "code",
   "execution_count": 21,
   "metadata": {},
   "outputs": [
    {
     "name": "stdout",
     "output_type": "stream",
     "text": [
      "Último elemento da lista: 10 - dez\n"
     ]
    }
   ],
   "source": [
    "print(f'Último elemento da lista: {lista_numeros[0][9]} - {lista_numeros[1][9]}')"
   ]
  },
  {
   "cell_type": "code",
   "execution_count": 22,
   "metadata": {},
   "outputs": [
    {
     "data": {
      "text/plain": [
       "\"\\n3. Esta questão tem quatro atividades:\\na) Crie uma lista vazia, denominada itens, e acrescente a ela três string: 'livro', 'caderno' e 'borracha'.\\nb) Altere o item de índice 1 para 'régua'.\\nc) Verifique se o item 'caderno' ainda está na lista.\\nd) Imprima a quantidade de elementos da lista, remova o último elemento da lista e imprima-o; em seguida,\\nimprima o novo tamanho da lista.\\ne) Crie uma variável chamada fatia, que contenha os dois últimos elementos da lista e imprima-a na saída\\npadrão.\\n\""
      ]
     },
     "execution_count": 22,
     "metadata": {},
     "output_type": "execute_result"
    }
   ],
   "source": [
    "'''\n",
    "3. Esta questão tem quatro atividades:\n",
    "a) Crie uma lista vazia, denominada itens, e acrescente a ela três string: 'livro', 'caderno' e 'borracha'.\n",
    "b) Altere o item de índice 1 para 'régua'.\n",
    "c) Verifique se o item 'caderno' ainda está na lista.\n",
    "d) Imprima a quantidade de elementos da lista, remova o último elemento da lista e imprima-o; em seguida,\n",
    "imprima o novo tamanho da lista.\n",
    "e) Crie uma variável chamada fatia, que contenha os dois últimos elementos da lista e imprima-a na saída\n",
    "padrão.\n",
    "'''"
   ]
  },
  {
   "cell_type": "code",
   "execution_count": 39,
   "metadata": {},
   "outputs": [],
   "source": [
    "itens = []"
   ]
  },
  {
   "cell_type": "code",
   "execution_count": 40,
   "metadata": {},
   "outputs": [],
   "source": [
    "itens.append('livro')\n",
    "itens.append('caderno')\n",
    "itens.append('borracha')"
   ]
  },
  {
   "cell_type": "code",
   "execution_count": 41,
   "metadata": {},
   "outputs": [
    {
     "data": {
      "text/plain": [
       "['livro', 'caderno', 'borracha']"
      ]
     },
     "execution_count": 41,
     "metadata": {},
     "output_type": "execute_result"
    }
   ],
   "source": [
    "itens"
   ]
  },
  {
   "cell_type": "code",
   "execution_count": 42,
   "metadata": {},
   "outputs": [
    {
     "data": {
      "text/plain": [
       "['livro', 'régua', 'borracha']"
      ]
     },
     "execution_count": 42,
     "metadata": {},
     "output_type": "execute_result"
    }
   ],
   "source": [
    "itens[1] = 'régua'\n",
    "itens"
   ]
  },
  {
   "cell_type": "code",
   "execution_count": 43,
   "metadata": {},
   "outputs": [
    {
     "name": "stdout",
     "output_type": "stream",
     "text": [
      "A lista não contém um caderno\n"
     ]
    }
   ],
   "source": [
    "if 'caderno' in itens:\n",
    "    print('A lista contém um caderno')\n",
    "else:\n",
    "    print('A lista não contém um caderno')"
   ]
  },
  {
   "cell_type": "code",
   "execution_count": 44,
   "metadata": {},
   "outputs": [
    {
     "name": "stdout",
     "output_type": "stream",
     "text": [
      "A lista possui 3 elementos\n"
     ]
    }
   ],
   "source": [
    "print(f'A lista possui {len(itens)} elementos')"
   ]
  },
  {
   "cell_type": "code",
   "execution_count": 45,
   "metadata": {},
   "outputs": [
    {
     "data": {
      "text/plain": [
       "'borracha'"
      ]
     },
     "execution_count": 45,
     "metadata": {},
     "output_type": "execute_result"
    }
   ],
   "source": [
    "ultimo_elemento = itens.pop()\n",
    "ultimo_elemento"
   ]
  },
  {
   "cell_type": "code",
   "execution_count": 46,
   "metadata": {},
   "outputs": [
    {
     "name": "stdout",
     "output_type": "stream",
     "text": [
      "Após a remoção de borracha, a lista ficou com 2 elementos\n"
     ]
    }
   ],
   "source": [
    "print(f'Após a remoção de {ultimo_elemento}, a lista ficou com {len(itens)} elementos')"
   ]
  },
  {
   "cell_type": "code",
   "execution_count": 50,
   "metadata": {},
   "outputs": [],
   "source": [
    "fatia = itens[-2:]"
   ]
  },
  {
   "cell_type": "code",
   "execution_count": 51,
   "metadata": {},
   "outputs": [
    {
     "name": "stdout",
     "output_type": "stream",
     "text": [
      "Os dois últimos elementos da lista são ['livro', 'régua']\n"
     ]
    }
   ],
   "source": [
    "print(f'Os dois últimos elementos da lista são {fatia}')"
   ]
  },
  {
   "cell_type": "code",
   "execution_count": 52,
   "metadata": {},
   "outputs": [
    {
     "data": {
      "text/plain": [
       "\"\\n4. Altere a questão anterior para, após as operações da questão 3, inserir a string 'livro' \\nna posição 0 da lista itens e, em seguida, imprimir o novo contúdo da mesma.\\n\""
      ]
     },
     "execution_count": 52,
     "metadata": {},
     "output_type": "execute_result"
    }
   ],
   "source": [
    "'''\n",
    "4. Altere a questão anterior para, após as operações da questão 3, inserir a string 'livro' \n",
    "na posição 0 da lista itens e, em seguida, imprimir o novo contúdo da mesma.\n",
    "'''"
   ]
  },
  {
   "cell_type": "code",
   "execution_count": 53,
   "metadata": {},
   "outputs": [],
   "source": [
    "itens.insert(0, 'livro')"
   ]
  },
  {
   "cell_type": "code",
   "execution_count": 54,
   "metadata": {},
   "outputs": [
    {
     "name": "stdout",
     "output_type": "stream",
     "text": [
      "Após a inserção do novo elemento: ['livro', 'livro', 'régua']\n"
     ]
    }
   ],
   "source": [
    "print(f'Após a inserção do novo elemento: {itens}')"
   ]
  },
  {
   "cell_type": "code",
   "execution_count": 55,
   "metadata": {},
   "outputs": [
    {
     "data": {
      "text/plain": [
       "'\\n5. Crie um conjunto, A, com todos os números inteiros de 1 a 5, e outro conjunto, B,\\ncom os números inteiros pares de 0 a 10. Exiba o resultado de AuB e de A∩B\\n'"
      ]
     },
     "execution_count": 55,
     "metadata": {},
     "output_type": "execute_result"
    }
   ],
   "source": [
    "'''\n",
    "5. Crie um conjunto, A, com todos os números inteiros de 1 a 5, e outro conjunto, B,\n",
    "com os números inteiros pares de 0 a 10. Exiba o resultado de AuB e de A∩B\n",
    "'''"
   ]
  },
  {
   "cell_type": "code",
   "execution_count": 56,
   "metadata": {},
   "outputs": [],
   "source": [
    "A = {1, 2, 3, 4, 5}\n",
    "B = {0, 1, 2, 3, 4, 5, 6, 7, 8, 9, 10}"
   ]
  },
  {
   "cell_type": "code",
   "execution_count": 58,
   "metadata": {},
   "outputs": [
    {
     "name": "stdout",
     "output_type": "stream",
     "text": [
      "A união B = {0, 1, 2, 3, 4, 5, 6, 7, 8, 9, 10}\n"
     ]
    }
   ],
   "source": [
    "print(f'A união B = {A|B}')"
   ]
  },
  {
   "cell_type": "code",
   "execution_count": 59,
   "metadata": {},
   "outputs": [
    {
     "name": "stdout",
     "output_type": "stream",
     "text": [
      "A interseção B = {1, 2, 3, 4, 5}\n"
     ]
    }
   ],
   "source": [
    "print(f'A interseção B = {A&B}')"
   ]
  },
  {
   "cell_type": "markdown",
   "metadata": {},
   "source": [
    "#### Exercícios propostos"
   ]
  },
  {
   "cell_type": "code",
   "execution_count": 60,
   "metadata": {},
   "outputs": [
    {
     "data": {
      "text/plain": [
       "'\\n1. Crie uma variável chamada teste e armazene nela os números inteiros de 1 a 5. Imprima o segundo\\nelemento da lista e, na linha seguinte, o conteúdo da lista completa.\\n'"
      ]
     },
     "execution_count": 60,
     "metadata": {},
     "output_type": "execute_result"
    }
   ],
   "source": [
    "'''\n",
    "1. Crie uma variável chamada teste e armazene nela os números inteiros de 1 a 5. Imprima o segundo\n",
    "elemento da lista e, na linha seguinte, o conteúdo da lista completa.\n",
    "'''"
   ]
  },
  {
   "cell_type": "code",
   "execution_count": 73,
   "metadata": {},
   "outputs": [
    {
     "data": {
      "text/plain": [
       "[1, 2, 3, 4, 5]"
      ]
     },
     "execution_count": 73,
     "metadata": {},
     "output_type": "execute_result"
    }
   ],
   "source": [
    "teste = [1, 2, 3, 4, 5]\n",
    "teste"
   ]
  },
  {
   "cell_type": "code",
   "execution_count": 63,
   "metadata": {},
   "outputs": [
    {
     "name": "stdout",
     "output_type": "stream",
     "text": [
      "O segundo elemento da lista é: 2\n"
     ]
    }
   ],
   "source": [
    "print(f'O segundo elemento da lista é: {teste[1]}')"
   ]
  },
  {
   "cell_type": "code",
   "execution_count": 64,
   "metadata": {},
   "outputs": [
    {
     "name": "stdout",
     "output_type": "stream",
     "text": [
      "A lista completa é: [1, 2, 3, 4, 5]\n"
     ]
    }
   ],
   "source": [
    "print(f'A lista completa é: {teste[0:]}')"
   ]
  },
  {
   "cell_type": "code",
   "execution_count": null,
   "metadata": {},
   "outputs": [],
   "source": [
    "'''\n",
    "2. Altere o programa anterior, acrescentando uma variável chamada teste2,\n",
    "contendo os números inteiros de 6 a 10. Acrescente essa lista à primeira, \n",
    "estendendo-a, e em seguida, imprima a nova lista gerada.\n",
    "'''"
   ]
  },
  {
   "cell_type": "code",
   "execution_count": 65,
   "metadata": {},
   "outputs": [
    {
     "data": {
      "text/plain": [
       "[6, 7, 8, 9, 10]"
      ]
     },
     "execution_count": 65,
     "metadata": {},
     "output_type": "execute_result"
    }
   ],
   "source": [
    "teste2 = [6, 7, 8, 9, 10]\n",
    "teste2"
   ]
  },
  {
   "cell_type": "code",
   "execution_count": 75,
   "metadata": {},
   "outputs": [
    {
     "data": {
      "text/plain": [
       "[1, 2, 3, 4, 5, 6, 7, 8, 9, 10]"
      ]
     },
     "execution_count": 75,
     "metadata": {},
     "output_type": "execute_result"
    }
   ],
   "source": [
    "teste.extend(teste2)\n",
    "teste"
   ]
  },
  {
   "cell_type": "code",
   "execution_count": 76,
   "metadata": {},
   "outputs": [
    {
     "name": "stdout",
     "output_type": "stream",
     "text": [
      "A nova lista é: [1, 2, 3, 4, 5, 6, 7, 8, 9, 10]\n"
     ]
    }
   ],
   "source": [
    "print(f'A nova lista é: {teste}')"
   ]
  },
  {
   "cell_type": "code",
   "execution_count": 79,
   "metadata": {},
   "outputs": [
    {
     "data": {
      "text/plain": [
       "'\\n3. Crie um conjunto com o nome primos, contendo os números primos menores que 20, um conjunto \\nchamado pares com os números pares de 0 a 10, e outro, chamado impares, contendo os números ímpares\\nentre 10 e 20. Imprima o resultado: paresu(primos∩impares)\\n'"
      ]
     },
     "execution_count": 79,
     "metadata": {},
     "output_type": "execute_result"
    }
   ],
   "source": [
    "'''\n",
    "3. Crie um conjunto com o nome primos, contendo os números primos menores que 20, um conjunto \n",
    "chamado pares com os números pares de 0 a 10, e outro, chamado impares, contendo os números ímpares\n",
    "entre 10 e 20. Imprima o resultado: paresu(primos∩impares)\n",
    "'''"
   ]
  },
  {
   "cell_type": "code",
   "execution_count": 84,
   "metadata": {},
   "outputs": [],
   "source": [
    "primos = {2, 3, 5, 7, 11, 13, 17, 19}\n",
    "pares = {0, 2, 4, 6, 8, 10}\n",
    "impares = {11, 13, 15, 17, 19}"
   ]
  },
  {
   "cell_type": "code",
   "execution_count": 85,
   "metadata": {},
   "outputs": [
    {
     "name": "stdout",
     "output_type": "stream",
     "text": [
      "O resultado de paresu(primos∩impares) é: {0, 2, 4, 6, 8, 10, 11, 13, 17, 19}\n"
     ]
    }
   ],
   "source": [
    "print(f'O resultado de paresu(primos∩impares) é: {pares|(primos&impares)}')"
   ]
  },
  {
   "cell_type": "code",
   "execution_count": 86,
   "metadata": {},
   "outputs": [
    {
     "data": {
      "text/plain": [
       "\"\\n4. Imagine que você precise contar as ocorrências das letras C, G, A e T,\\ncorrespondentes às bases nitrogenadas do DNA, em uma string. Crie um programa\\ncom uma variável dna, contendo a sequência 'CGCGGACCTTTCCCAAA', que imprima\\nna saída o número de ocorrências de cada letra.\\n\""
      ]
     },
     "execution_count": 86,
     "metadata": {},
     "output_type": "execute_result"
    }
   ],
   "source": [
    "'''\n",
    "4. Imagine que você precise contar as ocorrências das letras C, G, A e T,\n",
    "correspondentes às bases nitrogenadas do DNA, em uma string. Crie um programa\n",
    "com uma variável dna, contendo a sequência 'CGCGGACCTTTCCCAAA', que imprima\n",
    "na saída o número de ocorrências de cada letra.\n",
    "'''"
   ]
  },
  {
   "cell_type": "code",
   "execution_count": 100,
   "metadata": {},
   "outputs": [],
   "source": [
    "from collections import Counter"
   ]
  },
  {
   "cell_type": "code",
   "execution_count": 94,
   "metadata": {},
   "outputs": [],
   "source": [
    "dna = 'CGCGGACCTTTCCCAAA'"
   ]
  },
  {
   "cell_type": "code",
   "execution_count": 96,
   "metadata": {},
   "outputs": [
    {
     "name": "stdout",
     "output_type": "stream",
     "text": [
      "['C', 'G', 'C', 'G', 'G', 'A', 'C', 'C', 'T', 'T', 'T', 'C', 'C', 'C', 'A', 'A', 'A']\n"
     ]
    }
   ],
   "source": [
    "dna = list(dna)\n",
    "print(dna)"
   ]
  },
  {
   "cell_type": "code",
   "execution_count": 103,
   "metadata": {},
   "outputs": [
    {
     "name": "stdout",
     "output_type": "stream",
     "text": [
      "A quantidade de cada letra é: Counter({'C': 7, 'A': 4, 'G': 3, 'T': 3})\n"
     ]
    }
   ],
   "source": [
    "freq = Counter(dna)\n",
    "print(f'A quantidade de cada letra é: {freq}')"
   ]
  }
 ],
 "metadata": {
  "kernelspec": {
   "display_name": "base",
   "language": "python",
   "name": "python3"
  },
  "language_info": {
   "codemirror_mode": {
    "name": "ipython",
    "version": 3
   },
   "file_extension": ".py",
   "mimetype": "text/x-python",
   "name": "python",
   "nbconvert_exporter": "python",
   "pygments_lexer": "ipython3",
   "version": "3.11.7"
  }
 },
 "nbformat": 4,
 "nbformat_minor": 2
}
