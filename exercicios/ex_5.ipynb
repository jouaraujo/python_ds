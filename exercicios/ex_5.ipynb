{
 "cells": [
  {
   "cell_type": "markdown",
   "metadata": {},
   "source": [
    "#### Exercícios resolvidos"
   ]
  },
  {
   "cell_type": "code",
   "execution_count": 1,
   "metadata": {},
   "outputs": [
    {
     "data": {
      "text/plain": [
       "'\\n1. crie uma função que recebe as coordenadas (x, y) de dois pontos no plano cartesiano\\ne imprime e retorna o coeficiente angular da reta formado por eles.\\n'"
      ]
     },
     "execution_count": 1,
     "metadata": {},
     "output_type": "execute_result"
    }
   ],
   "source": [
    "'''\n",
    "1. crie uma função que recebe as coordenadas (x, y) de dois pontos no plano cartesiano\n",
    "e imprime e retorna o coeficiente angular da reta formado por eles.\n",
    "'''"
   ]
  },
  {
   "cell_type": "code",
   "execution_count": 4,
   "metadata": {},
   "outputs": [],
   "source": [
    "def coeficiente_angular(x1, y1, x2, y2):\n",
    "    resultado = 0\n",
    "    delta_y = y2 - y1\n",
    "    delta_x = x2 - x1\n",
    "    if (delta_x == 0):\n",
    "        print('Reta vertical - coeficiente angular -> infinito')\n",
    "    else:\n",
    "        resultado = delta_y / delta_x\n",
    "        print(f'O coeficiente angular da reta formado por ({x1}, {y1}) e ({x2}, {y2}) é {resultado}')\n",
    "        return resultado"
   ]
  },
  {
   "cell_type": "code",
   "execution_count": 5,
   "metadata": {},
   "outputs": [
    {
     "data": {
      "text/plain": [
       "'\\n2. crie uma função que receba a altura, a largura e o comprimento em metros de um \\ntanque cúbico e retorna a capacidade em litros do tanque.\\n'"
      ]
     },
     "execution_count": 5,
     "metadata": {},
     "output_type": "execute_result"
    }
   ],
   "source": [
    "'''\n",
    "2. crie uma função que receba a altura, a largura e o comprimento em metros de um \n",
    "tanque cúbico e retorna a capacidade em litros do tanque.\n",
    "'''"
   ]
  },
  {
   "cell_type": "code",
   "execution_count": 7,
   "metadata": {},
   "outputs": [],
   "source": [
    "def volume_em_litros(altura, largura, comprimento):\n",
    "    resultado_em_m3 = altura * largura * comprimento\n",
    "    resultado_em_litros = resultado_em_m3 * 1_000\n",
    "    return resultado_em_litros"
   ]
  },
  {
   "cell_type": "code",
   "execution_count": 8,
   "metadata": {},
   "outputs": [
    {
     "data": {
      "text/plain": [
       "'\\n3. crie uma função que recebe como parâmetro a distância de um trajeto em km,\\no consumo em km/l de um meio de transporte e informa quantos litros de combustível\\nserão necessários para a viagem.\\n'"
      ]
     },
     "execution_count": 8,
     "metadata": {},
     "output_type": "execute_result"
    }
   ],
   "source": [
    "'''\n",
    "3. crie uma função que recebe como parâmetro a distância de um trajeto em km,\n",
    "o consumo em km/l de um meio de transporte e informa quantos litros de combustível\n",
    "serão necessários para a viagem.\n",
    "'''"
   ]
  },
  {
   "cell_type": "code",
   "execution_count": 9,
   "metadata": {},
   "outputs": [],
   "source": [
    "def consumo(distancia_km, consumo_km_l):\n",
    "    resultado = distancia_km / consumo_km_l\n",
    "    print(f'Para essa viagem, serão necessários {resultado} litros \\\n",
    "          de combustivel')\n",
    "    return resultado"
   ]
  },
  {
   "cell_type": "markdown",
   "metadata": {},
   "source": [
    "#### Exercícios propostos"
   ]
  },
  {
   "cell_type": "code",
   "execution_count": null,
   "metadata": {},
   "outputs": [],
   "source": [
    "'''\n",
    "1. crie uma função que recebe as coordenadas (x, y) de dois pontos\n",
    "no plano cartesiano e imprime a distância entre eles. Dica: use a fórmula\n",
    "da distância entre dois pontos e a função math.sqrt(), que calcula a raiz\n",
    "quadrada de seu argumento. Essa função é uma das que podem ser usadas, \n",
    "internamente, no algoritmo de Regressão Logística, que será discutido no \n",
    "capítulo 13.\n",
    "'''"
   ]
  },
  {
   "cell_type": "code",
   "execution_count": 10,
   "metadata": {},
   "outputs": [],
   "source": [
    "from math import sqrt"
   ]
  },
  {
   "cell_type": "code",
   "execution_count": 11,
   "metadata": {},
   "outputs": [],
   "source": [
    "def distancia_pontos(x1, y1, x2, y2):\n",
    "    resultado = sqrt((x2 - x1)**2 + (y2 -y1)**2)\n",
    "    print(f'A distância entre esses pontos são: {resultado}')"
   ]
  },
  {
   "cell_type": "code",
   "execution_count": 12,
   "metadata": {},
   "outputs": [
    {
     "name": "stdout",
     "output_type": "stream",
     "text": [
      "A distância entre esses pontos são: 4.242640687119285\n"
     ]
    }
   ],
   "source": [
    "distancia_pontos(2, 3, 5, 6)"
   ]
  },
  {
   "cell_type": "code",
   "execution_count": 13,
   "metadata": {},
   "outputs": [
    {
     "data": {
      "text/plain": [
       "'\\n2. altere a questão 2 dos exercícios resolvidos para receber, também, o preço\\nde um litro de água e calcular qual o custo para encher o mesmo tanque.\\n'"
      ]
     },
     "execution_count": 13,
     "metadata": {},
     "output_type": "execute_result"
    }
   ],
   "source": [
    "'''\n",
    "2. altere a questão 2 dos exercícios resolvidos para receber, também, o preço\n",
    "de um litro de água e calcular qual o custo para encher o mesmo tanque.\n",
    "'''"
   ]
  },
  {
   "cell_type": "code",
   "execution_count": null,
   "metadata": {},
   "outputs": [],
   "source": [
    "def custo_para_encher_tanque(altura, largura, comprimento, preco_por_litro):\n",
    "    volume_em_litros = altura * largura * comprimento * 1000\n",
    "    custo_total = volume_em_litros * preco_por_litro\n",
    "    return custo_total"
   ]
  },
  {
   "cell_type": "code",
   "execution_count": null,
   "metadata": {},
   "outputs": [],
   "source": [
    "\"\"\"\n",
    "3. crie uma função que recebe como parâmetro a distância de um \n",
    "trajeto em km, o consumo em km/l de um meio de transporte, o preço do\n",
    "litro de combustível e informa o custo com combustível para a viagem.\n",
    "\"\"\""
   ]
  },
  {
   "cell_type": "code",
   "execution_count": 14,
   "metadata": {},
   "outputs": [],
   "source": [
    "def custo_combustivel(distancia_km, consumo_km_l, preco_l):\n",
    "    litros_necessarios = distancia_km / consumo_km_l\n",
    "    custo_total = litros_necessarios * preco_l\n",
    "    print(f'O custo total com combustível para a viagem será de R$ {custo_total:.2f}')\n",
    "    return custo_total"
   ]
  }
 ],
 "metadata": {
  "kernelspec": {
   "display_name": "base",
   "language": "python",
   "name": "python3"
  },
  "language_info": {
   "codemirror_mode": {
    "name": "ipython",
    "version": 3
   },
   "file_extension": ".py",
   "mimetype": "text/x-python",
   "name": "python",
   "nbconvert_exporter": "python",
   "pygments_lexer": "ipython3",
   "version": "3.11.7"
  }
 },
 "nbformat": 4,
 "nbformat_minor": 2
}
