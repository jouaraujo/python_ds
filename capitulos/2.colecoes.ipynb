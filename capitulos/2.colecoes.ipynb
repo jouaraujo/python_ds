{
 "cells": [
  {
   "cell_type": "markdown",
   "metadata": {},
   "source": [
    "#### Coleções"
   ]
  },
  {
   "cell_type": "markdown",
   "metadata": {},
   "source": [
    "#### Listas"
   ]
  },
  {
   "cell_type": "code",
   "execution_count": 2,
   "metadata": {},
   "outputs": [],
   "source": [
    "# identificador = [elemento 0, ..., elemento n-1]"
   ]
  },
  {
   "cell_type": "code",
   "execution_count": 3,
   "metadata": {},
   "outputs": [
    {
     "name": "stdout",
     "output_type": "stream",
     "text": [
      "Conteúdo da lista: ['Gol', 'Uno', 'HB20', 'Ka']\n"
     ]
    }
   ],
   "source": [
    "lista_carros = ['Gol', 'Uno', 'HB20', 'Ka'] \n",
    "print(f'Conteúdo da lista: {lista_carros}') "
   ]
  },
  {
   "cell_type": "code",
   "execution_count": 4,
   "metadata": {},
   "outputs": [
    {
     "name": "stdout",
     "output_type": "stream",
     "text": [
      "O primeiro elemento da lista é Gol\n",
      "O quarto elemento da lista é Ka\n"
     ]
    }
   ],
   "source": [
    "print(f'O primeiro elemento da lista é {lista_carros[0]}')\n",
    "print(f'O quarto elemento da lista é {lista_carros[3]}')\n",
    "# print(f'O quinto elemento da lista é {lista_carros[4]}') Erro"
   ]
  },
  {
   "cell_type": "code",
   "execution_count": 5,
   "metadata": {},
   "outputs": [
    {
     "name": "stdout",
     "output_type": "stream",
     "text": [
      "['Gol', 'Uno', 'HB20', 'Ka']\n"
     ]
    }
   ],
   "source": [
    "print(lista_carros)"
   ]
  },
  {
   "cell_type": "code",
   "execution_count": 6,
   "metadata": {},
   "outputs": [
    {
     "name": "stdout",
     "output_type": "stream",
     "text": [
      "Conteúdo da lista de carros: [['Gol', 'Uno', 'HB20', 'Ka'], ['Ferrari', 'Lamborguini', 'Porsche']]\n"
     ]
    }
   ],
   "source": [
    "carros_populares = ['Gol', 'Uno', 'HB20', 'Ka']\n",
    "superesportivos = ['Ferrari', 'Lamborguini', 'Porsche']\n",
    "lista_carros = [carros_populares, superesportivos]\n",
    "print(f'Conteúdo da lista de carros: {lista_carros}')"
   ]
  },
  {
   "cell_type": "code",
   "execution_count": 7,
   "metadata": {},
   "outputs": [
    {
     "name": "stdout",
     "output_type": "stream",
     "text": [
      "Carros populares: ['Gol', 'Uno', 'HB20', 'Ka']\n",
      "Superesportivos: ['Ferrari', 'Lamborguini', 'Porsche']\n"
     ]
    }
   ],
   "source": [
    "print(f'Carros populares: {lista_carros[0]}')\n",
    "print(f'Superesportivos: {lista_carros[1]}')"
   ]
  },
  {
   "cell_type": "code",
   "execution_count": 8,
   "metadata": {},
   "outputs": [
    {
     "name": "stdout",
     "output_type": "stream",
     "text": [
      "Segundo carro popular: Uno\n"
     ]
    }
   ],
   "source": [
    "print(f'Segundo carro popular: {lista_carros[0][1]}')"
   ]
  },
  {
   "cell_type": "code",
   "execution_count": 9,
   "metadata": {},
   "outputs": [
    {
     "name": "stdout",
     "output_type": "stream",
     "text": [
      "Criando uma lista de produtos vazia: []\n",
      "Adicionando caneta esferográfica preta à lista:\n",
      "['caneta esferográfica preta']\n",
      "Adicionando caneta esferográfica azul à lista:\n",
      "['caneta esferográfica preta', 'caneta esferográfica azul']\n",
      "Adicionando resma de papel sulfite à lista:\n",
      "['caneta esferográfica preta', 'caneta esferográfica azul', 'resma de papel sulfite']\n"
     ]
    }
   ],
   "source": [
    "lista_produtos = []\n",
    "print(f'Criando uma lista de produtos vazia: {lista_produtos}')\n",
    "print('Adicionando caneta esferográfica preta à lista:')\n",
    "lista_produtos.append('caneta esferográfica preta')\n",
    "print(lista_produtos)\n",
    "print('Adicionando caneta esferográfica azul à lista:')\n",
    "lista_produtos.append('caneta esferográfica azul')\n",
    "print(lista_produtos)\n",
    "print('Adicionando resma de papel sulfite à lista:')\n",
    "lista_produtos.append('resma de papel sulfite')\n",
    "print(lista_produtos)"
   ]
  },
  {
   "cell_type": "code",
   "execution_count": 10,
   "metadata": {},
   "outputs": [
    {
     "name": "stdout",
     "output_type": "stream",
     "text": [
      "Alterando um elemento da lista:\n",
      "['caneta esferográfica preta', 'caneta esferográfica azul', 'resma de papel A4']\n"
     ]
    }
   ],
   "source": [
    "print('Alterando um elemento da lista:')\n",
    "lista_produtos[2] = 'resma de papel A4'\n",
    "print(lista_produtos)"
   ]
  },
  {
   "cell_type": "code",
   "execution_count": 11,
   "metadata": {},
   "outputs": [
    {
     "name": "stdout",
     "output_type": "stream",
     "text": [
      "borracha não está na lista\n"
     ]
    }
   ],
   "source": [
    "if 'borracha' in lista_produtos:\n",
    "    print('borracha está na lista')\n",
    "else:\n",
    "    print('borracha não está na lista')"
   ]
  },
  {
   "cell_type": "code",
   "execution_count": 12,
   "metadata": {},
   "outputs": [
    {
     "name": "stdout",
     "output_type": "stream",
     "text": [
      "Produto não cadastrado!\n"
     ]
    }
   ],
   "source": [
    "um_produto = 'lápis grafite n. 02'\n",
    "\n",
    "if um_produto not in lista_produtos:\n",
    "    print('Produto não cadastrado!')"
   ]
  },
  {
   "cell_type": "code",
   "execution_count": 13,
   "metadata": {},
   "outputs": [],
   "source": [
    "lista_produtos.remove('resma de papel A4')"
   ]
  },
  {
   "cell_type": "code",
   "execution_count": 14,
   "metadata": {},
   "outputs": [
    {
     "data": {
      "text/plain": [
       "'caneta esferográfica azul'"
      ]
     },
     "execution_count": 14,
     "metadata": {},
     "output_type": "execute_result"
    }
   ],
   "source": [
    "lista_produtos.pop()"
   ]
  },
  {
   "cell_type": "code",
   "execution_count": 15,
   "metadata": {},
   "outputs": [],
   "source": [
    "# del lista_produtos[1]"
   ]
  },
  {
   "cell_type": "code",
   "execution_count": 16,
   "metadata": {},
   "outputs": [
    {
     "name": "stdout",
     "output_type": "stream",
     "text": [
      "1\n"
     ]
    }
   ],
   "source": [
    "print(len(lista_produtos))"
   ]
  },
  {
   "cell_type": "code",
   "execution_count": 17,
   "metadata": {},
   "outputs": [
    {
     "name": "stdout",
     "output_type": "stream",
     "text": [
      "Lista vazia de usuários: []\n",
      "Usuários da informática: ['Adriano', 'Bruno', 'Carlos']\n",
      "Usuários da contabilidade: ['Daniele', 'Elisa', 'Fernanda']\n",
      "Unindo as listas. Primeiro, testando com a informática:\n",
      "['Adriano', 'Bruno', 'Carlos']\n",
      "Agora, acrescentando a contabilidade:\n",
      "['Adriano', 'Bruno', 'Carlos', 'Daniele', 'Elisa', 'Fernanda']\n"
     ]
    }
   ],
   "source": [
    "usuarios = []\n",
    "usuarios_informatica = ['Adriano', 'Bruno', 'Carlos']\n",
    "usuarios_contabilidade = ['Daniele', 'Elisa', 'Fernanda']\n",
    "print(f'Lista vazia de usuários: {usuarios}')\n",
    "print(f'Usuários da informática: {usuarios_informatica}')\n",
    "print(f'Usuários da contabilidade: {usuarios_contabilidade}')\n",
    "print('Unindo as listas. Primeiro, testando com a informática:')\n",
    "usuarios.extend(usuarios_informatica)\n",
    "print(usuarios)\n",
    "print('Agora, acrescentando a contabilidade:')\n",
    "usuarios.extend(usuarios_contabilidade)\n",
    "print(usuarios)"
   ]
  },
  {
   "cell_type": "code",
   "execution_count": 18,
   "metadata": {},
   "outputs": [
    {
     "name": "stdout",
     "output_type": "stream",
     "text": [
      "Lista inicial de ferramentas:  ['Alicate de Pressão', 'Chave Philips', 'Formão']\n",
      "Comprei uma chave torx:  ['Alicate de Pressão', 'Chave Philips', 'Chave Torx', 'Formão']\n",
      "Comprei um alicate de corte:  ['Alicate de corte', 'Alicate de Pressão', 'Chave Philips', 'Chave Torx', 'Formão']\n"
     ]
    }
   ],
   "source": [
    "ferramentas = ['Alicate de Pressão', 'Chave Philips', 'Formão']\n",
    "print('Lista inicial de ferramentas: ', ferramentas)\n",
    "ferramentas.insert(2, 'Chave Torx')\n",
    "print('Comprei uma chave torx: ', ferramentas)\n",
    "ferramentas.insert(0, 'Alicate de corte')\n",
    "print('Comprei um alicate de corte: ', ferramentas)"
   ]
  },
  {
   "cell_type": "code",
   "execution_count": 19,
   "metadata": {},
   "outputs": [
    {
     "name": "stdout",
     "output_type": "stream",
     "text": [
      "Lista original: [0, 1, 2, 3, 4, 5, 6, 7, 8, 9]\n",
      "Primeiro elemento: 0\n",
      "Último elemento: 9\n",
      "Penúltimo elemento: 8\n",
      "Três últimos elementos: [7, 8, 9]\n",
      "Sem o primeiro e o último elementos: [1, 2, 3, 4, 5, 6, 7, 8]\n",
      "Realizando uma cópia da lista inteira: [0, 1, 2, 3, 4, 5, 6, 7, 8, 9]\n"
     ]
    }
   ],
   "source": [
    "numeros = [0, 1, 2, 3, 4, 5, 6, 7, 8, 9]\n",
    "print(f'Lista original: {numeros}')\n",
    "primeiro_elemento = numeros[0]\n",
    "print(f'Primeiro elemento: {primeiro_elemento}')\n",
    "ultimo_elemento = numeros[-1]\n",
    "print(f'Último elemento: {ultimo_elemento}')\n",
    "penultimo_elemento = numeros[-2]\n",
    "print(f'Penúltimo elemento: {penultimo_elemento}')\n",
    "tres_ultimos = numeros[-3:]\n",
    "print(f'Três últimos elementos: {tres_ultimos}')\n",
    "sem_os_extremos = numeros[1:-1]\n",
    "print(f'Sem o primeiro e o último elementos: {sem_os_extremos}')\n",
    "numeros2 = numeros[:]\n",
    "print(f'Realizando uma cópia da lista inteira: {numeros2}')"
   ]
  },
  {
   "cell_type": "code",
   "execution_count": 20,
   "metadata": {},
   "outputs": [],
   "source": [
    "# identificador[início:fim:salto]"
   ]
  },
  {
   "cell_type": "markdown",
   "metadata": {},
   "source": [
    "#### Tuplas"
   ]
  },
  {
   "cell_type": "code",
   "execution_count": 2,
   "metadata": {},
   "outputs": [],
   "source": [
    "tupla_inteiros = (1, 2, 3)\n",
    "tupla_strings = ('A', 'B', 'C')\n",
    "tupla_booleanos = (False, True)"
   ]
  },
  {
   "cell_type": "code",
   "execution_count": 3,
   "metadata": {},
   "outputs": [],
   "source": [
    "# uma sintaxe alternativa para criar tuplas é eliminar completamente os delimitadores.\n",
    "uma_tupla = 1, 2, 3, 4, 5 # menos usada por ser confusa"
   ]
  },
  {
   "cell_type": "code",
   "execution_count": 5,
   "metadata": {},
   "outputs": [],
   "source": [
    "# quando a ordem dos elementos não é relevante, pode-se utilizar os tipo Conjuntos e Dicionário"
   ]
  },
  {
   "cell_type": "markdown",
   "metadata": {},
   "source": [
    "#### Conjuntos"
   ]
  },
  {
   "cell_type": "markdown",
   "metadata": {},
   "source": [
    "Há duas maneiras de declarar um conjunto em Python:\n",
    "- Explicitamente, colocando seus elementos entre chaves.\n",
    "\n",
    "    Ex.: conjunto_pares = {0, 2, 4, 6, 8}\n",
    "\n",
    "- Usando a função set()."
   ]
  },
  {
   "cell_type": "code",
   "execution_count": 6,
   "metadata": {},
   "outputs": [],
   "source": [
    "# operações sobre conjuntos"
   ]
  },
  {
   "cell_type": "markdown",
   "metadata": {},
   "source": [
    "- A | B ou A.union(B) \n",
    "\n",
    "Retorna o conjunto união de A com B, sem alterar seus valores.\n",
    "\n",
    "- A |= B ou A.update(B) \n",
    "\n",
    "Realiza a união de A com B e atribui o resultado a A (altera o conteúdo de A)\n",
    "\n",
    "- A & B ou A.intersection(B) \n",
    "\n",
    "Retorna o conjunto interseção de A com B, sem alterar seus valores\n",
    "\n",
    "- A &= B ou A.intersection_update(B) \n",
    "\n",
    "Realiza a interseção de A com B e atribui o resultado a A (altera o conteúdo de A)\n",
    "\n",
    "- A - B ou A.difference(B) \n",
    "\n",
    "Retorna a diferença entre A e B (elementos que estão contidos em A, mas, não em B)\n",
    "\n",
    "- A -= B ou A.difference_update(B) \n",
    "\n",
    "Retorna a diferença entre A e B (elementos que estão contidos em A, mas não em B) e armazena o resultado em A;\n",
    "na prática , remove de A todos os elementos que também fizeram parte de B\n",
    "\n",
    "- A ^ B ou A.symmetric_difference(B)\n",
    "\n",
    "Retorna a diferença simétrica entre A e B (elementos contidos em A ou em B, mas não em ambos simultaneamente)\n",
    "\n",
    "- A ^= B ou A.symmetric_difference_update(B)\n",
    "\n",
    "Armazena a diferença simétrica entre A e B em A\n",
    "\n",
    "- A <= B ou A.issubset(B)\n",
    "\n",
    "Retorna True se A for subconjunto de B ou False, caso contrário. Ou seja, corresponde a A está contido em B\n",
    "\n",
    "- A >= B ou A.issuperset(B)\n",
    "\n",
    "Retorna True se A for superconjunto de B ou False, caso contrário. Ou seja, corresponde a A contém B\n",
    "\n",
    "- A < B\n",
    "\n",
    "Equivalente a A <= B e A != B, ou seja, corresponde a A está contido propriamente em B\n",
    "\n",
    "- A > B\n",
    "\n",
    "Equivalente a A >= B e A != B, ou seja, corresponde a A contém propriamente em B"
   ]
  },
  {
   "cell_type": "code",
   "execution_count": 7,
   "metadata": {},
   "outputs": [
    {
     "name": "stdout",
     "output_type": "stream",
     "text": [
      "Criado um conjunto vazio: A = set()\n"
     ]
    }
   ],
   "source": [
    "A = set() \n",
    "print(f'Criado um conjunto vazio: A = {A}')"
   ]
  },
  {
   "cell_type": "code",
   "execution_count": 9,
   "metadata": {},
   "outputs": [
    {
     "name": "stdout",
     "output_type": "stream",
     "text": [
      "Adicionando um elemento ao conjunto A: A = {'X'}\n"
     ]
    }
   ],
   "source": [
    "A.add('X')\n",
    "print(f'Adicionando um elemento ao conjunto A: A = {A}')"
   ]
  },
  {
   "cell_type": "code",
   "execution_count": 10,
   "metadata": {},
   "outputs": [
    {
     "name": "stdout",
     "output_type": "stream",
     "text": [
      "Adicionando outro elemento ao conjunto A: A = {'X', 'Y'}\n"
     ]
    }
   ],
   "source": [
    "A.add('Y')\n",
    "print(f'Adicionando outro elemento ao conjunto A: A = {A}')"
   ]
  },
  {
   "cell_type": "code",
   "execution_count": 11,
   "metadata": {},
   "outputs": [
    {
     "name": "stdout",
     "output_type": "stream",
     "text": [
      "Adicionando mais um elemento ao conjunto A: A = {'X', 'Y', 'Z'}\n"
     ]
    }
   ],
   "source": [
    "A.add('Z')\n",
    "print(f'Adicionando mais um elemento ao conjunto A: A = {A}')"
   ]
  },
  {
   "cell_type": "code",
   "execution_count": 14,
   "metadata": {},
   "outputs": [
    {
     "name": "stdout",
     "output_type": "stream",
     "text": [
      "Adicionando um quarto elemento ao conjunto A: A = {'X', 123, 'Y', 'Z'}\n"
     ]
    }
   ],
   "source": [
    "A.add(123)\n",
    "print(f'Adicionando um quarto elemento ao conjunto A: A = {A}')"
   ]
  },
  {
   "cell_type": "code",
   "execution_count": 16,
   "metadata": {},
   "outputs": [
    {
     "name": "stdout",
     "output_type": "stream",
     "text": [
      "A contém agora 4 elementos\n"
     ]
    }
   ],
   "source": [
    "print(f'A contém agora {len(A)} elementos')"
   ]
  },
  {
   "cell_type": "code",
   "execution_count": 17,
   "metadata": {},
   "outputs": [
    {
     "name": "stdout",
     "output_type": "stream",
     "text": [
      "O elemento 'X' está contido em A? True\n"
     ]
    }
   ],
   "source": [
    "teste_pertinencia = 'X' in A\n",
    "print(f'O elemento \\'X\\' está contido em A? {teste_pertinencia}')"
   ]
  },
  {
   "cell_type": "code",
   "execution_count": 18,
   "metadata": {},
   "outputs": [
    {
     "name": "stdout",
     "output_type": "stream",
     "text": [
      "O elemento 'a' está contido em A? False\n"
     ]
    }
   ],
   "source": [
    "teste_pertinencia = 'a' in A\n",
    "print(f'O elemento \\'a\\' está contido em A? {teste_pertinencia}')"
   ]
  },
  {
   "cell_type": "code",
   "execution_count": 19,
   "metadata": {},
   "outputs": [],
   "source": [
    "# uma operação comum usando conjuntos é a eliminação de elementos duplicados em uma lista"
   ]
  },
  {
   "cell_type": "code",
   "execution_count": 20,
   "metadata": {},
   "outputs": [
    {
     "name": "stdout",
     "output_type": "stream",
     "text": [
      "Conteúdo inicial da lista: ['A', 'B', 'C', 'B', 'A', 'C']\n"
     ]
    }
   ],
   "source": [
    "lista_duplicada = ['A', 'B', 'C', 'B', 'A', 'C']\n",
    "print(f'Conteúdo inicial da lista: {lista_duplicada}')"
   ]
  },
  {
   "cell_type": "code",
   "execution_count": 21,
   "metadata": {},
   "outputs": [
    {
     "name": "stdout",
     "output_type": "stream",
     "text": [
      "Convertendo a lista em conjunto para eliminar duplicidades...\n"
     ]
    }
   ],
   "source": [
    "print('Convertendo a lista em conjunto para eliminar duplicidades...')\n",
    "conjunto = set(lista_duplicada)"
   ]
  },
  {
   "cell_type": "code",
   "execution_count": 22,
   "metadata": {},
   "outputs": [
    {
     "name": "stdout",
     "output_type": "stream",
     "text": [
      "Conteúdo da lista sem valores duplicados: ['A', 'B', 'C']\n"
     ]
    }
   ],
   "source": [
    "lista_sem_duplicacoes = list(conjunto)\n",
    "print(f'Conteúdo da lista sem valores duplicados: {lista_sem_duplicacoes}')"
   ]
  },
  {
   "cell_type": "markdown",
   "metadata": {},
   "source": [
    "#### Expressões Lambda"
   ]
  },
  {
   "cell_type": "code",
   "execution_count": null,
   "metadata": {},
   "outputs": [],
   "source": [
    "\"\"\"Expressões ou funções lambda são funções anônimas, que podem receber qualquer quantidade\n",
    "de parâmetros, mas só devem conter uma expressão em seu corpo.\n",
    "    Uma expressão lambda é definida da seguinte forma:\n",
    "        lambda p1, p2...pn: expressão\"\"\""
   ]
  },
  {
   "cell_type": "code",
   "execution_count": 26,
   "metadata": {},
   "outputs": [],
   "source": [
    "delta = lambda a, b, c: b**2 - 4*a*c"
   ]
  },
  {
   "cell_type": "code",
   "execution_count": 27,
   "metadata": {},
   "outputs": [
    {
     "name": "stdout",
     "output_type": "stream",
     "text": [
      "Usando uma expressão lambda para calcular delta(1 , 12, -13): 196\n"
     ]
    }
   ],
   "source": [
    "print(f'Usando uma expressão lambda para calcular delta(1 , 12, -13): {delta(1, 12, -13)}')"
   ]
  },
  {
   "cell_type": "markdown",
   "metadata": {},
   "source": [
    "#### Dicionários"
   ]
  },
  {
   "cell_type": "markdown",
   "metadata": {},
   "source": []
  }
 ],
 "metadata": {
  "kernelspec": {
   "display_name": "base",
   "language": "python",
   "name": "python3"
  },
  "language_info": {
   "codemirror_mode": {
    "name": "ipython",
    "version": 3
   },
   "file_extension": ".py",
   "mimetype": "text/x-python",
   "name": "python",
   "nbconvert_exporter": "python",
   "pygments_lexer": "ipython3",
   "version": "3.11.7"
  }
 },
 "nbformat": 4,
 "nbformat_minor": 2
}
