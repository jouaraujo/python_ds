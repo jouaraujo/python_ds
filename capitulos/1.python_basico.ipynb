{
 "cells": [
  {
   "cell_type": "code",
   "execution_count": 12,
   "metadata": {},
   "outputs": [
    {
     "name": "stdout",
     "output_type": "stream",
     "text": [
      "Hello, World!\n"
     ]
    }
   ],
   "source": [
    "print(\"Hello, World!\")"
   ]
  },
  {
   "cell_type": "code",
   "execution_count": 13,
   "metadata": {},
   "outputs": [],
   "source": [
    "x = 1\n",
    "mensagem = 'Teste'\n",
    "continua = True"
   ]
  },
  {
   "cell_type": "code",
   "execution_count": 14,
   "metadata": {},
   "outputs": [
    {
     "name": "stdout",
     "output_type": "stream",
     "text": [
      "1 Teste True\n"
     ]
    }
   ],
   "source": [
    "print(x, mensagem, continua)"
   ]
  },
  {
   "cell_type": "code",
   "execution_count": 15,
   "metadata": {},
   "outputs": [
    {
     "name": "stdout",
     "output_type": "stream",
     "text": [
      "Conheça o bar Apóstrofo's\n"
     ]
    }
   ],
   "source": [
    "print(\"Conheça o bar Apóstrofo\\'s\")"
   ]
  },
  {
   "cell_type": "code",
   "execution_count": 16,
   "metadata": {},
   "outputs": [
    {
     "name": "stdout",
     "output_type": "stream",
     "text": [
      "A barra invertida é esta: \\\n"
     ]
    }
   ],
   "source": [
    "print(\"A barra invertida é esta: \\\\\")"
   ]
  },
  {
   "cell_type": "code",
   "execution_count": 17,
   "metadata": {},
   "outputs": [
    {
     "name": "stdout",
     "output_type": "stream",
     "text": [
      "No meio do caminho tinha uma pedra\n"
     ]
    }
   ],
   "source": [
    "print('No meio do caminho', end=' ')\n",
    "print('tinha uma pedra')"
   ]
  },
  {
   "cell_type": "code",
   "execution_count": 18,
   "metadata": {},
   "outputs": [
    {
     "name": "stdout",
     "output_type": "stream",
     "text": [
      "No meio do caminho ####"
     ]
    }
   ],
   "source": [
    "print('No meio do caminho', end=' ####')"
   ]
  },
  {
   "cell_type": "code",
   "execution_count": 19,
   "metadata": {},
   "outputs": [
    {
     "name": "stdout",
     "output_type": "stream",
     "text": [
      "A*B*C*0\n"
     ]
    }
   ],
   "source": [
    "print('A', 'B', 'C', 0, sep=\"*\")"
   ]
  },
  {
   "cell_type": "code",
   "execution_count": 20,
   "metadata": {},
   "outputs": [
    {
     "name": "stdout",
     "output_type": "stream",
     "text": [
      "A \n",
      " B \n",
      " C \n",
      "\n"
     ]
    }
   ],
   "source": [
    "print('A', '\\n', 'B', '\\n', 'C', '\\n')"
   ]
  },
  {
   "cell_type": "code",
   "execution_count": 21,
   "metadata": {},
   "outputs": [
    {
     "name": "stdout",
     "output_type": "stream",
     "text": [
      "A\n",
      "\n",
      "\n",
      "B\n",
      "\n",
      "\n",
      "C\n",
      "\n",
      "\n"
     ]
    }
   ],
   "source": [
    "print('A', '\\n', 'B', '\\n', 'C', '\\n', sep='\\n')"
   ]
  },
  {
   "cell_type": "code",
   "execution_count": 22,
   "metadata": {},
   "outputs": [
    {
     "data": {
      "text/plain": [
       "'c:\\\\Users\\\\jonat\\\\Desktop\\\\python_ds\\\\capitulos'"
      ]
     },
     "execution_count": 22,
     "metadata": {},
     "output_type": "execute_result"
    }
   ],
   "source": [
    "%pwd"
   ]
  },
  {
   "cell_type": "code",
   "execution_count": 23,
   "metadata": {},
   "outputs": [
    {
     "name": "stdout",
     "output_type": "stream",
     "text": [
      "C:\\Users\\jonat\n"
     ]
    }
   ],
   "source": [
    "%cd"
   ]
  },
  {
   "cell_type": "code",
   "execution_count": 24,
   "metadata": {},
   "outputs": [
    {
     "name": "stdout",
     "output_type": "stream",
     "text": [
      "Hello, World\n"
     ]
    }
   ],
   "source": [
    "\"\"\"\n",
    "Este programa escreve 'Hello, World!' na saída padrão\n",
    "Este é um comentário de múltiplas linhas\n",
    "\"\"\"\n",
    "\n",
    "print('Hello, World') # Escreve na tela (Comentário de uma só linha)"
   ]
  },
  {
   "cell_type": "code",
   "execution_count": 25,
   "metadata": {},
   "outputs": [],
   "source": [
    "x = 1   # x contém um inteiro"
   ]
  },
  {
   "cell_type": "code",
   "execution_count": 26,
   "metadata": {},
   "outputs": [
    {
     "name": "stdout",
     "output_type": "stream",
     "text": [
      "<class 'int'>\n"
     ]
    }
   ],
   "source": [
    "print(type(x))"
   ]
  },
  {
   "cell_type": "code",
   "execution_count": 27,
   "metadata": {},
   "outputs": [],
   "source": [
    "x = 'abc'   # Agora, x contém uma string"
   ]
  },
  {
   "cell_type": "code",
   "execution_count": 28,
   "metadata": {},
   "outputs": [
    {
     "name": "stdout",
     "output_type": "stream",
     "text": [
      "<class 'str'>\n"
     ]
    }
   ],
   "source": [
    "print(type(x))"
   ]
  },
  {
   "cell_type": "code",
   "execution_count": 29,
   "metadata": {},
   "outputs": [],
   "source": [
    "x = True   # E agora, x contém um booleano"
   ]
  },
  {
   "cell_type": "code",
   "execution_count": 30,
   "metadata": {},
   "outputs": [
    {
     "name": "stdout",
     "output_type": "stream",
     "text": [
      "<class 'bool'>\n"
     ]
    }
   ],
   "source": [
    "print(type(x))"
   ]
  },
  {
   "cell_type": "code",
   "execution_count": 31,
   "metadata": {},
   "outputs": [
    {
     "name": "stdout",
     "output_type": "stream",
     "text": [
      "Código de usuário 27\n"
     ]
    }
   ],
   "source": [
    "print('Código de usuário %d' %27)"
   ]
  },
  {
   "cell_type": "code",
   "execution_count": 32,
   "metadata": {},
   "outputs": [
    {
     "name": "stdout",
     "output_type": "stream",
     "text": [
      "15 em octal é 17\n"
     ]
    }
   ],
   "source": [
    "print('15 em octal é %o' %15)"
   ]
  },
  {
   "cell_type": "code",
   "execution_count": 33,
   "metadata": {},
   "outputs": [
    {
     "name": "stdout",
     "output_type": "stream",
     "text": [
      "100 em hexadecimal é 64\n"
     ]
    }
   ],
   "source": [
    "print('100 em hexadecimal é %x' %100)"
   ]
  },
  {
   "cell_type": "code",
   "execution_count": 34,
   "metadata": {},
   "outputs": [
    {
     "name": "stdout",
     "output_type": "stream",
     "text": [
      "pi com duas casas decimais é aproximadamente 3.14\n"
     ]
    }
   ],
   "source": [
    "print('pi com duas casas decimais é aproximadamente %.2f' %3.1415926)"
   ]
  },
  {
   "cell_type": "code",
   "execution_count": 35,
   "metadata": {},
   "outputs": [
    {
     "name": "stdout",
     "output_type": "stream",
     "text": [
      "pi com três casas decimais é aproximadamente 3.142\n"
     ]
    }
   ],
   "source": [
    "print('pi com três casas decimais é aproximadamente %.3f' %3.1415926)"
   ]
  },
  {
   "cell_type": "code",
   "execution_count": 36,
   "metadata": {},
   "outputs": [
    {
     "name": "stdout",
     "output_type": "stream",
     "text": [
      "Meu nome é Fulano\n"
     ]
    }
   ],
   "source": [
    "nome = 'Fulano'\n",
    "\n",
    "print('Meu nome é %s' %nome)"
   ]
  },
  {
   "cell_type": "code",
   "execution_count": 37,
   "metadata": {},
   "outputs": [
    {
     "name": "stdout",
     "output_type": "stream",
     "text": [
      "Constantes - pi: 3.14, e 2.72\n"
     ]
    }
   ],
   "source": [
    "print('Constantes - pi: %.2f, e %.2f' %(3.1415926, 2.718281))"
   ]
  },
  {
   "cell_type": "code",
   "execution_count": 38,
   "metadata": {},
   "outputs": [],
   "source": [
    "codigo = 27"
   ]
  },
  {
   "cell_type": "code",
   "execution_count": 39,
   "metadata": {},
   "outputs": [],
   "source": [
    "pi = 3.1415926"
   ]
  },
  {
   "cell_type": "code",
   "execution_count": 40,
   "metadata": {},
   "outputs": [
    {
     "name": "stdout",
     "output_type": "stream",
     "text": [
      "Código do usuário: 27\n"
     ]
    }
   ],
   "source": [
    "print(f'Código do usuário: {codigo}')"
   ]
  },
  {
   "cell_type": "code",
   "execution_count": 41,
   "metadata": {},
   "outputs": [
    {
     "name": "stdout",
     "output_type": "stream",
     "text": [
      "15 em octal é 17\n"
     ]
    }
   ],
   "source": [
    "print(f'15 em octal é {15:o}')"
   ]
  },
  {
   "cell_type": "code",
   "execution_count": 42,
   "metadata": {},
   "outputs": [
    {
     "name": "stdout",
     "output_type": "stream",
     "text": [
      "100 em hexadecimal é 64\n"
     ]
    }
   ],
   "source": [
    "print(f'100 em hexadecimal é {100:x}')"
   ]
  },
  {
   "cell_type": "code",
   "execution_count": 43,
   "metadata": {},
   "outputs": [
    {
     "name": "stdout",
     "output_type": "stream",
     "text": [
      "pi com duas casas decimais é aproximadamente 3.14\n"
     ]
    }
   ],
   "source": [
    "print(f'pi com duas casas decimais é aproximadamente {pi:.2f}')"
   ]
  },
  {
   "cell_type": "code",
   "execution_count": 44,
   "metadata": {},
   "outputs": [
    {
     "name": "stdout",
     "output_type": "stream",
     "text": [
      "pi com três casas decimais é aproximadamente 3.142\n"
     ]
    }
   ],
   "source": [
    "print(f'pi com três casas decimais é aproximadamente {pi:.3f}')"
   ]
  },
  {
   "cell_type": "code",
   "execution_count": 45,
   "metadata": {},
   "outputs": [
    {
     "name": "stdout",
     "output_type": "stream",
     "text": [
      "Meu nome é Fulano\n"
     ]
    }
   ],
   "source": [
    "nome = 'Fulano'\n",
    "\n",
    "print(f'Meu nome é {nome}')"
   ]
  },
  {
   "cell_type": "code",
   "execution_count": 46,
   "metadata": {},
   "outputs": [
    {
     "name": "stdout",
     "output_type": "stream",
     "text": [
      "A média aritmética simples entre 4 e 5 é 4.5\n"
     ]
    }
   ],
   "source": [
    "print(f'A média aritmética simples entre 4 e 5 é {(4+5)/2}')"
   ]
  },
  {
   "cell_type": "code",
   "execution_count": 47,
   "metadata": {},
   "outputs": [
    {
     "name": "stdout",
     "output_type": "stream",
     "text": [
      "A soma dos números de 1 a 100 é 5050\n"
     ]
    }
   ],
   "source": [
    "soma = 0\n",
    "for i in range(1, 101):\n",
    "    soma += i      # o suíte do código\n",
    "    \n",
    "print(f'A soma dos números de 1 a 100 é {soma}')"
   ]
  },
  {
   "cell_type": "code",
   "execution_count": 48,
   "metadata": {},
   "outputs": [],
   "source": [
    "matrix_4x3 = [[21, 22, 23],\n",
    "              [24, 25, 26],\n",
    "              [27, 28, 29],\n",
    "              [30, 31, 32]]"
   ]
  },
  {
   "cell_type": "code",
   "execution_count": 49,
   "metadata": {},
   "outputs": [
    {
     "name": "stdout",
     "output_type": "stream",
     "text": [
      "[[21, 22, 23], [24, 25, 26], [27, 28, 29], [30, 31, 32]]\n"
     ]
    }
   ],
   "source": [
    "print(matrix_4x3)"
   ]
  },
  {
   "cell_type": "code",
   "execution_count": 50,
   "metadata": {},
   "outputs": [],
   "source": [
    "\"\"\"Exemplo de variável global\"\"\"\n",
    "\n",
    "codigo = '123321' # Definição fora do corpo da função - variável global"
   ]
  },
  {
   "cell_type": "code",
   "execution_count": 51,
   "metadata": {},
   "outputs": [],
   "source": [
    "def testar():\n",
    "    print(f'Dentro da função testar(), codigo = {codigo}')"
   ]
  },
  {
   "cell_type": "code",
   "execution_count": 52,
   "metadata": {},
   "outputs": [
    {
     "name": "stdout",
     "output_type": "stream",
     "text": [
      "Dentro da função testar(), codigo = 123321\n",
      "Fora da função testar(), codigo = 123321\n"
     ]
    }
   ],
   "source": [
    "testar()\n",
    "print(f'Fora da função testar(), codigo = {codigo}')"
   ]
  },
  {
   "cell_type": "code",
   "execution_count": 53,
   "metadata": {},
   "outputs": [],
   "source": [
    "teste1 = 123"
   ]
  },
  {
   "cell_type": "code",
   "execution_count": 61,
   "metadata": {},
   "outputs": [
    {
     "name": "stdout",
     "output_type": "stream",
     "text": [
      "Valor de teste1, dentro da função: 123\n",
      "Valor do teste2, dentro da função: 456\n"
     ]
    }
   ],
   "source": [
    "def funcao_f():\n",
    "    global teste2\n",
    "    teste2 = 456\n",
    "    for x in range(1, 10):\n",
    "        z = x * 2\n",
    "        print(f'z = {z}')\n",
    "# print(f'Valor de z, após o loop: {z}')\n",
    "print(f'Valor de teste1, dentro da função: {teste1}')\n",
    "print(f'Valor do teste2, dentro da função: {teste2}')"
   ]
  },
  {
   "cell_type": "code",
   "execution_count": 62,
   "metadata": {},
   "outputs": [
    {
     "name": "stdout",
     "output_type": "stream",
     "text": [
      "z = 2\n",
      "z = 4\n",
      "z = 6\n",
      "z = 8\n",
      "z = 10\n",
      "z = 12\n",
      "z = 14\n",
      "z = 16\n",
      "z = 18\n",
      "Valor de teste1, fora da função: 123\n",
      "Valor de teste2, fora da função: 456\n"
     ]
    }
   ],
   "source": [
    "funcao_f()\n",
    "print(f'Valor de teste1, fora da função: {teste1}')\n",
    "print(f'Valor de teste2, fora da função: {teste2}')\n",
    "# print(f'Valor de z, após o loop: {z}')"
   ]
  },
  {
   "cell_type": "markdown",
   "metadata": {},
   "source": [
    "#### Operadores: aritméticos, lógicos e de comparação"
   ]
  },
  {
   "cell_type": "code",
   "execution_count": null,
   "metadata": {},
   "outputs": [],
   "source": [
    "# Adição:\n",
    "x = 1 + 2\n",
    "y = a + b\n",
    "x = x + 1"
   ]
  },
  {
   "cell_type": "code",
   "execution_count": null,
   "metadata": {},
   "outputs": [],
   "source": [
    "# Subtração:\n",
    "a = 4 - 3\n",
    "y = a - 2\n",
    "z = z - 3"
   ]
  },
  {
   "cell_type": "code",
   "execution_count": null,
   "metadata": {},
   "outputs": [],
   "source": [
    "# Multiplicação: \n",
    "x = x * y\n",
    "x = 3 * z\n",
    "a = a * c"
   ]
  },
  {
   "cell_type": "code",
   "execution_count": null,
   "metadata": {},
   "outputs": [],
   "source": [
    "# Divisão\n",
    "v = 4 / 2\n",
    "w = v / 3\n",
    "t = t / 5"
   ]
  },
  {
   "cell_type": "code",
   "execution_count": null,
   "metadata": {},
   "outputs": [],
   "source": [
    "# Resto: (inteiro) da divisão dos operandos - essa operação é denominada módulo\n",
    "a = x % 11\n",
    "b = 5 % 3\n",
    "b = b % 2"
   ]
  },
  {
   "cell_type": "code",
   "execution_count": null,
   "metadata": {},
   "outputs": [],
   "source": [
    "# Potenciação\n",
    "x = 2 ** 3\n",
    "y = x ** 5\n",
    "z = z ** x"
   ]
  },
  {
   "cell_type": "code",
   "execution_count": null,
   "metadata": {},
   "outputs": [],
   "source": [
    "# Divisão inteira\n",
    "a = 10 // 3\n",
    "b = a // 5\n",
    "c = c // 4"
   ]
  },
  {
   "cell_type": "code",
   "execution_count": null,
   "metadata": {},
   "outputs": [],
   "source": [
    "# pode ser escrito dess forma as operações\n",
    "b += 1\n",
    "c -= b\n",
    "d *= c\n",
    "x /= 7"
   ]
  },
  {
   "cell_type": "code",
   "execution_count": 64,
   "metadata": {},
   "outputs": [
    {
     "data": {
      "text/plain": [
       "37"
      ]
     },
     "execution_count": 64,
     "metadata": {},
     "output_type": "execute_result"
    }
   ],
   "source": [
    "7 + 6 * 5"
   ]
  },
  {
   "cell_type": "code",
   "execution_count": 65,
   "metadata": {},
   "outputs": [
    {
     "data": {
      "text/plain": [
       "65"
      ]
     },
     "execution_count": 65,
     "metadata": {},
     "output_type": "execute_result"
    }
   ],
   "source": [
    "(7 + 6) * 5"
   ]
  },
  {
   "cell_type": "code",
   "execution_count": 66,
   "metadata": {},
   "outputs": [
    {
     "name": "stdout",
     "output_type": "stream",
     "text": [
      "3\n"
     ]
    }
   ],
   "source": [
    "print(5 * 2 // 3)"
   ]
  },
  {
   "cell_type": "code",
   "execution_count": 67,
   "metadata": {},
   "outputs": [
    {
     "name": "stdout",
     "output_type": "stream",
     "text": [
      "0\n"
     ]
    }
   ],
   "source": [
    "print(5 * (2 // 3))"
   ]
  },
  {
   "cell_type": "code",
   "execution_count": 68,
   "metadata": {},
   "outputs": [
    {
     "name": "stdout",
     "output_type": "stream",
     "text": [
      "256\n",
      "64\n"
     ]
    }
   ],
   "source": [
    "print(2 ** 2 ** 3)\n",
    "print((2 ** 2) ** 3)"
   ]
  },
  {
   "cell_type": "code",
   "execution_count": 69,
   "metadata": {},
   "outputs": [],
   "source": [
    "# Operadores de igualdade"
   ]
  },
  {
   "cell_type": "code",
   "execution_count": 70,
   "metadata": {},
   "outputs": [
    {
     "name": "stdout",
     "output_type": "stream",
     "text": [
      "False\n",
      "True\n",
      "True\n",
      "False\n",
      "True\n",
      "True\n"
     ]
    }
   ],
   "source": [
    "print(5 == 3)\n",
    "print(10 == 10)\n",
    "print('maçã' == 'maçã')\n",
    "print('maçã' == 'Maçã')\n",
    "print(2 + 2 == 4)\n",
    "print(10 == 10.0)"
   ]
  },
  {
   "cell_type": "code",
   "execution_count": 71,
   "metadata": {},
   "outputs": [
    {
     "name": "stdout",
     "output_type": "stream",
     "text": [
      "True\n",
      "False\n",
      "False\n",
      "True\n",
      "False\n",
      "False\n"
     ]
    }
   ],
   "source": [
    "print(5 != 3)\n",
    "print(10 != 10)\n",
    "print('maçã' != 'maçã')\n",
    "print('maçã' != 'Maçã')\n",
    "print(2 + 2 != 4)\n",
    "print(10 != 10)"
   ]
  },
  {
   "cell_type": "code",
   "execution_count": 72,
   "metadata": {},
   "outputs": [],
   "source": [
    "# Operadores lógicos"
   ]
  },
  {
   "cell_type": "code",
   "execution_count": null,
   "metadata": {},
   "outputs": [],
   "source": [
    "# and \n",
    "\"\"\"\n",
    "Retorna True se ambos os seus argumentos forem True. \n",
    "Equivale ao E da lógica matemática\n",
    "\"\"\""
   ]
  },
  {
   "cell_type": "code",
   "execution_count": null,
   "metadata": {},
   "outputs": [],
   "source": [
    "# or\n",
    "\"\"\"\n",
    "Retorna True se ao menos um de seus argumentos for True.\n",
    "Equivale ao OU da lógiica matemática\n",
    "\"\"\""
   ]
  },
  {
   "cell_type": "code",
   "execution_count": null,
   "metadata": {},
   "outputs": [],
   "source": [
    "# not\n",
    "\"\"\"\n",
    "Inverte o resultado de seu operando: se receber True, retorna False;\n",
    "se receber False, retorna True. Equivale à NEGAÇÃO da lógica matemática\n",
    "\"\"\""
   ]
  },
  {
   "cell_type": "code",
   "execution_count": 74,
   "metadata": {},
   "outputs": [],
   "source": [
    "import pandas as pd"
   ]
  },
  {
   "cell_type": "code",
   "execution_count": 76,
   "metadata": {},
   "outputs": [
    {
     "data": {
      "text/html": [
       "<div>\n",
       "<style scoped>\n",
       "    .dataframe tbody tr th:only-of-type {\n",
       "        vertical-align: middle;\n",
       "    }\n",
       "\n",
       "    .dataframe tbody tr th {\n",
       "        vertical-align: top;\n",
       "    }\n",
       "\n",
       "    .dataframe thead th {\n",
       "        text-align: right;\n",
       "    }\n",
       "</style>\n",
       "<table border=\"1\" class=\"dataframe\">\n",
       "  <thead>\n",
       "    <tr style=\"text-align: right;\">\n",
       "      <th></th>\n",
       "      <th>x</th>\n",
       "      <th>y</th>\n",
       "      <th>x and y</th>\n",
       "      <th>x or y</th>\n",
       "      <th>not x</th>\n",
       "    </tr>\n",
       "  </thead>\n",
       "  <tbody>\n",
       "    <tr>\n",
       "      <th>0</th>\n",
       "      <td>True</td>\n",
       "      <td>True</td>\n",
       "      <td>True</td>\n",
       "      <td>True</td>\n",
       "      <td>False</td>\n",
       "    </tr>\n",
       "    <tr>\n",
       "      <th>1</th>\n",
       "      <td>True</td>\n",
       "      <td>False</td>\n",
       "      <td>False</td>\n",
       "      <td>True</td>\n",
       "      <td>False</td>\n",
       "    </tr>\n",
       "    <tr>\n",
       "      <th>2</th>\n",
       "      <td>False</td>\n",
       "      <td>True</td>\n",
       "      <td>False</td>\n",
       "      <td>True</td>\n",
       "      <td>True</td>\n",
       "    </tr>\n",
       "    <tr>\n",
       "      <th>3</th>\n",
       "      <td>False</td>\n",
       "      <td>False</td>\n",
       "      <td>False</td>\n",
       "      <td>False</td>\n",
       "      <td>True</td>\n",
       "    </tr>\n",
       "  </tbody>\n",
       "</table>\n",
       "</div>"
      ],
      "text/plain": [
       "       x      y  x and y  x or y  not x\n",
       "0   True   True     True    True  False\n",
       "1   True  False    False    True  False\n",
       "2  False   True    False    True   True\n",
       "3  False  False    False   False   True"
      ]
     },
     "execution_count": 76,
     "metadata": {},
     "output_type": "execute_result"
    }
   ],
   "source": [
    "Tabela_logica = pd.DataFrame(\n",
    "    {\n",
    "        'x': [True, True, False, False],\n",
    "        'y': [True, False, True, False],\n",
    "        'x and y': [True, False, False, False],\n",
    "        'x or y': [True, True, True, False],\n",
    "        'not x': [False, False, True, True]\n",
    "    }\n",
    ")\n",
    "\n",
    "\n",
    "Tabela_logica"
   ]
  },
  {
   "cell_type": "code",
   "execution_count": 77,
   "metadata": {},
   "outputs": [],
   "source": [
    "# Operadores de comparação"
   ]
  },
  {
   "cell_type": "code",
   "execution_count": 79,
   "metadata": {},
   "outputs": [
    {
     "name": "stdout",
     "output_type": "stream",
     "text": [
      "False\n",
      "True\n",
      "False\n"
     ]
    }
   ],
   "source": [
    "# > (Maior que)\n",
    "print(2 > 3)\n",
    "print(4 > 2)\n",
    "print(5 > 5)"
   ]
  },
  {
   "cell_type": "code",
   "execution_count": 82,
   "metadata": {},
   "outputs": [
    {
     "name": "stdout",
     "output_type": "stream",
     "text": [
      "True\n",
      "False\n",
      "False\n"
     ]
    }
   ],
   "source": [
    "# < (Menor que)\n",
    "print(10 < 12)\n",
    "print(30 < 15)\n",
    "print(20 < 20)"
   ]
  },
  {
   "cell_type": "code",
   "execution_count": 83,
   "metadata": {},
   "outputs": [
    {
     "name": "stdout",
     "output_type": "stream",
     "text": [
      "False\n",
      "True\n",
      "True\n"
     ]
    }
   ],
   "source": [
    "# >= (Maior igual)\n",
    "print(51 >= 52)\n",
    "print(53 >= 51)\n",
    "print(51 >= 51)"
   ]
  },
  {
   "cell_type": "code",
   "execution_count": 84,
   "metadata": {},
   "outputs": [
    {
     "name": "stdout",
     "output_type": "stream",
     "text": [
      "True\n",
      "False\n",
      "True\n"
     ]
    }
   ],
   "source": [
    "# <= (Menor igual)\n",
    "print(3 <= 6)\n",
    "print(9 <= 3)\n",
    "print(3 <= 3)"
   ]
  },
  {
   "cell_type": "markdown",
   "metadata": {},
   "source": [
    "#### Módulos"
   ]
  },
  {
   "cell_type": "code",
   "execution_count": 85,
   "metadata": {},
   "outputs": [],
   "source": [
    "# Para importar uma ou mais funções de um módulo, você precisa escrever:\n",
    "# from nome_do_módulo import identificador_1, identificador_2...identificador_n"
   ]
  },
  {
   "cell_type": "markdown",
   "metadata": {},
   "source": [
    "Onde:\n",
    "- **nome_do_módulo** é o identificador do módulo a ser importado.\n",
    "- **identificador_1, identificador_2...identificador_n** são os nomes das funções/classes do módulo"
   ]
  },
  {
   "cell_type": "code",
   "execution_count": 86,
   "metadata": {},
   "outputs": [],
   "source": [
    "# Exemplo (alias(\"apelido\"))\n",
    "import matplotlib.pyplot as plt\n",
    "import pandas as pd"
   ]
  },
  {
   "cell_type": "code",
   "execution_count": 87,
   "metadata": {},
   "outputs": [],
   "source": [
    "# pd.read_csv('arquivo.csv') Chamando a partir do alias do pd"
   ]
  },
  {
   "cell_type": "code",
   "execution_count": 88,
   "metadata": {},
   "outputs": [],
   "source": [
    "# Ou\n",
    "# from pandas import read_csv\n",
    "# read_csv('arquivo.csv') Chamando sem o alias"
   ]
  }
 ],
 "metadata": {
  "kernelspec": {
   "display_name": "base",
   "language": "python",
   "name": "python3"
  },
  "language_info": {
   "codemirror_mode": {
    "name": "ipython",
    "version": 3
   },
   "file_extension": ".py",
   "mimetype": "text/x-python",
   "name": "python",
   "nbconvert_exporter": "python",
   "pygments_lexer": "ipython3",
   "version": "3.11.7"
  }
 },
 "nbformat": 4,
 "nbformat_minor": 2
}
