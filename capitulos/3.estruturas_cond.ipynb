{
 "cells": [
  {
   "cell_type": "markdown",
   "metadata": {},
   "source": [
    "#### Estruturas Condicionais"
   ]
  },
  {
   "cell_type": "code",
   "execution_count": 6,
   "metadata": {},
   "outputs": [],
   "source": [
    "x = 5"
   ]
  },
  {
   "cell_type": "code",
   "execution_count": 7,
   "metadata": {},
   "outputs": [
    {
     "name": "stdout",
     "output_type": "stream",
     "text": [
      "5 é um número positivo.\n",
      "Esta linha será impressa todas as vezes.\n"
     ]
    }
   ],
   "source": [
    "if x > 0:\n",
    "    print(f'{x} é um número positivo.')\n",
    "print('Esta linha será impressa todas as vezes.')"
   ]
  },
  {
   "cell_type": "code",
   "execution_count": 8,
   "metadata": {},
   "outputs": [],
   "source": [
    "x = -1"
   ]
  },
  {
   "cell_type": "code",
   "execution_count": 9,
   "metadata": {},
   "outputs": [
    {
     "name": "stdout",
     "output_type": "stream",
     "text": [
      "Esta linha também será impressa sempre.\n"
     ]
    }
   ],
   "source": [
    "if x > 0:\n",
    "    print(f'{x} é um número positivo.')\n",
    "print('Esta linha também será impressa sempre.')"
   ]
  },
  {
   "cell_type": "code",
   "execution_count": 10,
   "metadata": {},
   "outputs": [],
   "source": [
    "# Uma variação da instrução if permite realizar vários testes na mesma instrução. Nesse caso, a sintaxe é"
   ]
  },
  {
   "cell_type": "code",
   "execution_count": 11,
   "metadata": {},
   "outputs": [],
   "source": [
    "# if condição1:\n",
    "#     suíte1\n",
    "# elif condição1:\n",
    "#     suíte2\n",
    "# (outros elifs...)\n",
    "# elif condição_n:\n",
    "#     suíte_n\n",
    "# else:\n",
    "#     suíte_do_else"
   ]
  },
  {
   "cell_type": "code",
   "execution_count": 16,
   "metadata": {},
   "outputs": [],
   "source": [
    "media = 8.5"
   ]
  },
  {
   "cell_type": "code",
   "execution_count": 17,
   "metadata": {},
   "outputs": [
    {
     "name": "stdout",
     "output_type": "stream",
     "text": [
      "Parabéns! Você foi aprovado por média.\n"
     ]
    }
   ],
   "source": [
    "if media >= 7.0:\n",
    "    print('Parabéns! Você foi aprovado por média.')\n",
    "elif (media < 70) and (media >= 30):\n",
    "    print('Você fará prova final.')\n",
    "else:\n",
    "    print('Você foi reprovado.')"
   ]
  },
  {
   "cell_type": "code",
   "execution_count": 18,
   "metadata": {},
   "outputs": [],
   "source": [
    "# ifs encadeados"
   ]
  },
  {
   "cell_type": "code",
   "execution_count": 20,
   "metadata": {},
   "outputs": [],
   "source": [
    "valor_medido = 87.0\n",
    "idade = 13\n",
    "sexo = 'F'\n",
    "igual_ou_abaixo_da_media = False"
   ]
  },
  {
   "cell_type": "code",
   "execution_count": 21,
   "metadata": {},
   "outputs": [
    {
     "name": "stdout",
     "output_type": "stream",
     "text": [
      "O valor da amostra fornecida é igual ou menor que a média do grupo em estudo\n"
     ]
    }
   ],
   "source": [
    "if sexo == 'M':\n",
    "    if (idade >= 7) and (idade < 9):\n",
    "        if valor_medido <= 89.4:\n",
    "            igual_ou_abaixo_da_media = True\n",
    "        else:\n",
    "            igual_ou_abaixo_da_media = False\n",
    "    if (idade >= 9) and (idade < 11):\n",
    "        if valor_medido <= 88.0:\n",
    "            igual_ou_abaixo_da_media = True\n",
    "        else:\n",
    "            igual_ou_abaixo_da_media = False\n",
    "    if (idade >= 11) and (idade < 13):\n",
    "        if valor_medido <= 88.92:\n",
    "            igual_ou_abaixo_da_media = True\n",
    "        else:\n",
    "            igual_ou_abaixo_da_media = False\n",
    "    if (idade >= 13) and (idade < 15):\n",
    "        if valor_medido <= 92.29:\n",
    "            igual_ou_abaixo_da_media = True\n",
    "        else:\n",
    "            igual_ou_abaixo_da_media = False\n",
    "    if (idade >= 16) and (idade < 18):\n",
    "        if valor_medido <= 89.69:\n",
    "            igual_ou_abaixo_da_media = True\n",
    "        else:\n",
    "            igual_ou_abaixo_da_media = False\n",
    "else: # sexo = 'F'\n",
    "    if (idade >= 7) and (idade < 9):\n",
    "        if valor_medido <= 83.72:\n",
    "            igual_ou_abaixo_da_media = True\n",
    "        else:\n",
    "            igual_ou_abaixo_da_media = False\n",
    "    if (idade >= 9) and (idade < 11):\n",
    "        if valor_medido <= 88.22:\n",
    "            igual_ou_abaixo_da_media = True\n",
    "        else:\n",
    "            igual_ou_abaixo_da_media = False\n",
    "    if (idade >= 11) and (idade < 13):\n",
    "        if valor_medido <= 88.58:\n",
    "            igual_ou_abaixo_da_media = True\n",
    "        else:\n",
    "            igual_ou_abaixo_da_media = False\n",
    "    if (idade >= 13) and (idade < 15):\n",
    "        if valor_medido <= 88.85:\n",
    "            igual_ou_abaixo_da_media = True\n",
    "        else:\n",
    "            igual_ou_abaixo_da_media = False\n",
    "    if (idade >= 15) and (idade < 18):\n",
    "        if valor_medido <= 89.77:\n",
    "            igual_ou_abaixo_da_media = True\n",
    "        else:\n",
    "            igual_ou_abaixo_da_media = False\n",
    "if igual_ou_abaixo_da_media:\n",
    "    print('O valor da amostra fornecida é igual ou menor que a média do grupo em estudo')\n",
    "else:\n",
    "    print('O valor da amostra fornecida é superior à média do grupo em estudo')"
   ]
  },
  {
   "cell_type": "code",
   "execution_count": 23,
   "metadata": {},
   "outputs": [],
   "source": [
    "# Operador ternário\n",
    "# nada mais é que uma instrução if condensada em uma só linha"
   ]
  },
  {
   "cell_type": "code",
   "execution_count": 24,
   "metadata": {},
   "outputs": [],
   "source": [
    "# expressão1 if condição else expressão2"
   ]
  },
  {
   "cell_type": "code",
   "execution_count": 25,
   "metadata": {},
   "outputs": [],
   "source": [
    "idade = 20"
   ]
  },
  {
   "cell_type": "code",
   "execution_count": 26,
   "metadata": {},
   "outputs": [
    {
     "name": "stdout",
     "output_type": "stream",
     "text": [
      "pode votar\n"
     ]
    }
   ],
   "source": [
    "print('pode votar' if idade >= 16 else 'não pode votar')"
   ]
  }
 ],
 "metadata": {
  "kernelspec": {
   "display_name": "base",
   "language": "python",
   "name": "python3"
  },
  "language_info": {
   "codemirror_mode": {
    "name": "ipython",
    "version": 3
   },
   "file_extension": ".py",
   "mimetype": "text/x-python",
   "name": "python",
   "nbconvert_exporter": "python",
   "pygments_lexer": "ipython3",
   "version": "3.11.7"
  }
 },
 "nbformat": 4,
 "nbformat_minor": 2
}
