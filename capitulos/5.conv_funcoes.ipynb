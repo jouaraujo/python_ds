{
 "cells": [
  {
   "cell_type": "markdown",
   "metadata": {},
   "source": [
    "#### Conversão de Tipos e Funções Personalizadas"
   ]
  },
  {
   "cell_type": "code",
   "execution_count": 1,
   "metadata": {},
   "outputs": [],
   "source": [
    "# Typecast"
   ]
  },
  {
   "cell_type": "code",
   "execution_count": 2,
   "metadata": {},
   "outputs": [],
   "source": [
    "# int() recebe um valor e converte-o parra um número inteiro, se possível."
   ]
  },
  {
   "cell_type": "code",
   "execution_count": 4,
   "metadata": {},
   "outputs": [
    {
     "data": {
      "text/plain": [
       "str"
      ]
     },
     "execution_count": 4,
     "metadata": {},
     "output_type": "execute_result"
    }
   ],
   "source": [
    "a = '123'\n",
    "type(a)"
   ]
  },
  {
   "cell_type": "code",
   "execution_count": 5,
   "metadata": {},
   "outputs": [
    {
     "data": {
      "text/plain": [
       "int"
      ]
     },
     "execution_count": 5,
     "metadata": {},
     "output_type": "execute_result"
    }
   ],
   "source": [
    "a_inteiro = int(a)\n",
    "type(a_inteiro)"
   ]
  },
  {
   "cell_type": "code",
   "execution_count": 6,
   "metadata": {},
   "outputs": [
    {
     "name": "stdout",
     "output_type": "stream",
     "text": [
      "convertendo a para inteiro: 123\n"
     ]
    }
   ],
   "source": [
    "print(f'convertendo a para inteiro: {a_inteiro}')"
   ]
  },
  {
   "cell_type": "code",
   "execution_count": 7,
   "metadata": {},
   "outputs": [
    {
     "data": {
      "text/plain": [
       "float"
      ]
     },
     "execution_count": 7,
     "metadata": {},
     "output_type": "execute_result"
    }
   ],
   "source": [
    "e = 2.718281\n",
    "type(e)"
   ]
  },
  {
   "cell_type": "code",
   "execution_count": 8,
   "metadata": {},
   "outputs": [
    {
     "data": {
      "text/plain": [
       "int"
      ]
     },
     "execution_count": 8,
     "metadata": {},
     "output_type": "execute_result"
    }
   ],
   "source": [
    "parte_inteira_de_e = int(e)\n",
    "type(parte_inteira_de_e)"
   ]
  },
  {
   "cell_type": "code",
   "execution_count": 9,
   "metadata": {},
   "outputs": [
    {
     "name": "stdout",
     "output_type": "stream",
     "text": [
      "e (base dos logaritmos neperianos) vale, aproximadamente 2.718281\n",
      "a parte inteira de e vale: 2\n"
     ]
    }
   ],
   "source": [
    "print(f'e (base dos logaritmos neperianos) vale, aproximadamente {e}')\n",
    "print(f'a parte inteira de e vale: {parte_inteira_de_e}')"
   ]
  },
  {
   "cell_type": "code",
   "execution_count": 21,
   "metadata": {},
   "outputs": [
    {
     "name": "stdout",
     "output_type": "stream",
     "text": [
      "convertendo True para int, obtém-se: 1\n",
      "convertendo False para int, obtém-se: 0\n"
     ]
    }
   ],
   "source": [
    "print(f'convertendo True para int, obtém-se: {int(True)}')\n",
    "print(f'convertendo False para int, obtém-se: {int(False)}')"
   ]
  },
  {
   "cell_type": "code",
   "execution_count": 11,
   "metadata": {},
   "outputs": [],
   "source": [
    "# a função float"
   ]
  },
  {
   "cell_type": "code",
   "execution_count": 12,
   "metadata": {},
   "outputs": [],
   "source": [
    "# semelhante à função int(), a função float() recebe um parâmetro e o converte-o para um número de ponto flutuante"
   ]
  },
  {
   "cell_type": "code",
   "execution_count": 13,
   "metadata": {},
   "outputs": [
    {
     "name": "stdout",
     "output_type": "stream",
     "text": [
      "1000.0\n",
      "x * y = 1000000.0\n"
     ]
    }
   ],
   "source": [
    "x = 1000\n",
    "y = float(x)\n",
    "print(y)\n",
    "print(f'x * y = {x * y}')"
   ]
  },
  {
   "cell_type": "code",
   "execution_count": 14,
   "metadata": {},
   "outputs": [],
   "source": [
    "# a função complex()"
   ]
  },
  {
   "cell_type": "code",
   "execution_count": 15,
   "metadata": {},
   "outputs": [],
   "source": [
    "# recebe um valor numérico como parâmetro e o converte em um número complexo"
   ]
  },
  {
   "cell_type": "code",
   "execution_count": 17,
   "metadata": {},
   "outputs": [
    {
     "data": {
      "text/plain": [
       "123"
      ]
     },
     "execution_count": 17,
     "metadata": {},
     "output_type": "execute_result"
    }
   ],
   "source": [
    "numero_inteiro = 123\n",
    "numero_inteiro"
   ]
  },
  {
   "cell_type": "code",
   "execution_count": 18,
   "metadata": {},
   "outputs": [
    {
     "data": {
      "text/plain": [
       "456.78"
      ]
     },
     "execution_count": 18,
     "metadata": {},
     "output_type": "execute_result"
    }
   ],
   "source": [
    "numero_real = 456.78\n",
    "numero_real"
   ]
  },
  {
   "cell_type": "code",
   "execution_count": 20,
   "metadata": {},
   "outputs": [
    {
     "name": "stdout",
     "output_type": "stream",
     "text": [
      "convertendo o inteiro 123 para complexo, obtém-se: (123+0j)\n",
      "convertendo o real 456.78 para complexo, obtém-se (456.78+0j)\n"
     ]
    }
   ],
   "source": [
    "print(f'convertendo o inteiro {numero_inteiro} para complexo, obtém-se: {complex(numero_inteiro)}')\n",
    "print(f'convertendo o real {numero_real} para complexo, obtém-se {complex(numero_real)}')"
   ]
  },
  {
   "cell_type": "code",
   "execution_count": 22,
   "metadata": {},
   "outputs": [],
   "source": [
    "# a função str()"
   ]
  },
  {
   "cell_type": "code",
   "execution_count": 23,
   "metadata": {},
   "outputs": [],
   "source": [
    "# costuma-se utilizá-la para evitar erros em concatenações"
   ]
  },
  {
   "cell_type": "code",
   "execution_count": null,
   "metadata": {},
   "outputs": [],
   "source": [
    "codigo = 300\n",
    "nome = 'Fulano'\n",
    "\n",
    "mensagem = 'O aluno de código' + codigo + 'é' + nome # errado"
   ]
  },
  {
   "cell_type": "code",
   "execution_count": 31,
   "metadata": {},
   "outputs": [
    {
     "data": {
      "text/plain": [
       "'O aluno de código 300 é Fulano'"
      ]
     },
     "execution_count": 31,
     "metadata": {},
     "output_type": "execute_result"
    }
   ],
   "source": [
    "mensagem = 'O aluno de código' + ' ' + str(codigo) + ' ' + 'é' + ' ' + nome\n",
    "mensagem"
   ]
  },
  {
   "cell_type": "code",
   "execution_count": 32,
   "metadata": {},
   "outputs": [],
   "source": [
    "# a função set()"
   ]
  },
  {
   "cell_type": "code",
   "execution_count": 34,
   "metadata": {},
   "outputs": [
    {
     "data": {
      "text/plain": [
       "'\\né usada, entre outras coisas, para ler dados que serão processados pelos algoritmos de \\nmachine learning, quando esses dados estão no formato de listas ou tuplas. Sua finalidade\\né converter informações para conjuntos (objetos do tipo Set).\\n'"
      ]
     },
     "execution_count": 34,
     "metadata": {},
     "output_type": "execute_result"
    }
   ],
   "source": [
    "'''\n",
    "é usada, entre outras coisas, para ler dados que serão processados pelos algoritmos de \n",
    "machine learning, quando esses dados estão no formato de listas ou tuplas. Sua finalidade\n",
    "é converter informações para conjuntos (objetos do tipo Set).\n",
    "'''"
   ]
  },
  {
   "cell_type": "code",
   "execution_count": 35,
   "metadata": {},
   "outputs": [],
   "source": [
    "dados_lista = ['A', 'B', 'C']\n",
    "dados_tupla = (1, 2, 3, 4)\n",
    "dados_string = 'PALAVRA'"
   ]
  },
  {
   "cell_type": "code",
   "execution_count": 36,
   "metadata": {},
   "outputs": [],
   "source": [
    "conjunto_1 = set(dados_lista)\n",
    "conjunto_2 = set(dados_tupla)\n",
    "conjunto_3 = set(dados_string)"
   ]
  },
  {
   "cell_type": "code",
   "execution_count": 41,
   "metadata": {},
   "outputs": [
    {
     "name": "stdout",
     "output_type": "stream",
     "text": [
      "convertendo-se ['A', 'B', 'C'] em conjunto, obtém-se: {'A', 'C', 'B'}.\n",
      "convertendo-se (1, 2, 3, 4) em conjunto, obtém-se: {1, 2, 3, 4}.\n",
      "convertendo-se PALAVRA em conjunto, obtém-se: {'P', 'V', 'L', 'R', 'A'}.\n"
     ]
    }
   ],
   "source": [
    "print(f'convertendo-se {dados_lista} em conjunto, obtém-se: {conjunto_1}.')\n",
    "print(f'convertendo-se {dados_tupla} em conjunto, obtém-se: {conjunto_2}.')\n",
    "print(f'convertendo-se {dados_string} em conjunto, obtém-se: {conjunto_3}.')"
   ]
  },
  {
   "cell_type": "code",
   "execution_count": 39,
   "metadata": {},
   "outputs": [],
   "source": [
    "# os resultados da execução não têm informações repetidas e não estão ordenados.\n",
    "# conjuntos, é uma coleção, que se comporta dessa forma, sem repetição e nem mantém a ordem"
   ]
  },
  {
   "cell_type": "code",
   "execution_count": 42,
   "metadata": {},
   "outputs": [],
   "source": [
    "# função bool()"
   ]
  },
  {
   "cell_type": "code",
   "execution_count": 44,
   "metadata": {},
   "outputs": [],
   "source": [
    "# converte qualquer valor para True ou False"
   ]
  },
  {
   "cell_type": "markdown",
   "metadata": {},
   "source": [
    "#### Retorna False\n",
    "\n",
    "- bool(0) e bool(0.0):\n",
    "\n",
    "    Todo valor avaliado como zero é convertido para False por bool()\n",
    "\n",
    "- bool([]) e bool({}):\n",
    "\n",
    "    Toda coleção vazia é convertida para False\n",
    "\n",
    "- bool(''):\n",
    "\n",
    "    Uma string vazia é convertida para False\n",
    "\n",
    "- bool(None):\n",
    "\n",
    "    O valor None é convertido para False\n",
    "\n",
    "#### Retorna True\n",
    "\n",
    "- bool(1), bool(-1) e boll(300):\n",
    "\n",
    "    Qualquer número diferente de zero é avaliado como True por bool().\n",
    "\n",
    "- bool('teste'):\n",
    "\n",
    "    Qualquer string não vazia é avaliada como True\n",
    "\n",
    "- bool([0, 2, 4]), bool((1, 2, 3)), bool({'x': 0}) e bool({1, 2, 3}):\n",
    "\n",
    "    Toda coleção não vazia é avaliada como True"
   ]
  },
  {
   "cell_type": "markdown",
   "metadata": {},
   "source": [
    "#### Funções personalizadas"
   ]
  },
  {
   "cell_type": "markdown",
   "metadata": {},
   "source": []
  }
 ],
 "metadata": {
  "kernelspec": {
   "display_name": "base",
   "language": "python",
   "name": "python3"
  },
  "language_info": {
   "codemirror_mode": {
    "name": "ipython",
    "version": 3
   },
   "file_extension": ".py",
   "mimetype": "text/x-python",
   "name": "python",
   "nbconvert_exporter": "python",
   "pygments_lexer": "ipython3",
   "version": "3.11.7"
  }
 },
 "nbformat": 4,
 "nbformat_minor": 2
}
