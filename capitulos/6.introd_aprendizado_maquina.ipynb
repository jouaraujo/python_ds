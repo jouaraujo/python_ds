{
 "cells": [
  {
   "cell_type": "markdown",
   "metadata": {},
   "source": [
    "#### Principais definições"
   ]
  },
  {
   "cell_type": "markdown",
   "metadata": {},
   "source": [
    "- Inteligência Artificial\n",
    "\n",
    "    Termo cunhado por Marvin Minsky, em 1961. Grosso modo, é \"a ciência de criar máquinas para fazer coisas que requereriam inteligência se fossem feitas por homens\"."
   ]
  },
  {
   "cell_type": "markdown",
   "metadata": {},
   "source": [
    "- Machine Learning\n",
    "\n",
    "    De acordo com Nelli (2015), Machine Learning (Aprendizado de Máquina) é a disciplina que faz uso de toda uma série de procedimentos e algoritmos para identificar padrões, agrupamentos ou tendências e, então, extrair informações útil para análise de dados, de maneira totalmente automatizada. Grosso modo, pode-se dizer que são métodos matemáticos usados para treinar algoritmos que identificam padrões."
   ]
  },
  {
   "cell_type": "markdown",
   "metadata": {},
   "source": [
    "- Data Analysis\n",
    "\n",
    "    Concentra-se na coleta e interpretação dos dados, tipicamente, com base em estatísticas passadas e presentes."
   ]
  },
  {
   "cell_type": "markdown",
   "metadata": {},
   "source": [
    "- Data Science\n",
    "\n",
    "    É um termo mais apropriado ao uso de dados com a finalidade de prever comportamentos, realizando análises exploratórias para fornecer recomendações baseadas em modelos identificados por dados presentes e passados."
   ]
  },
  {
   "cell_type": "markdown",
   "metadata": {},
   "source": [
    "#### Um pouco de terminologia de estatística "
   ]
  },
  {
   "cell_type": "markdown",
   "metadata": {},
   "source": [
    "- População\n",
    "\n",
    "    De acordo com Fonseca e Martins (1996), uma população é \"um conjunto de indivíduos ou objetos que apresentam pelo menos uma característica em comum\"."
   ]
  },
  {
   "cell_type": "markdown",
   "metadata": {},
   "source": [
    "- Amostra\n",
    "\n",
    "    Em termos práticos, é muito comum que a população de onde seus dados se originarem seja muito grande para um tratamento adequado (por exemplo, não seria factível tratar as informações de todos os mais de 200 milhões de brasileiros em um estudo). Logo, costuma-se trabalhar com uma amostra dos dados. O processo de obter tais informações é denominado de amostragem. A amostragem requer bem menos recursos que aplicar contagens a uma população inteira, e, se bem aplicada, ela pode resultar em um estudo praticamente tão preciso (ou acurado, que é o termo preferido pelos estatísticos) quanto outro realizado com toda a população, porém, com um custo muito menor."
   ]
  },
  {
   "cell_type": "markdown",
   "metadata": {},
   "source": [
    "- Espaço amostral\n",
    "\n",
    "    Consiste no conjunto de todos os resultados possíveis para um experimento aleatório. Por exemplo, no experimento \"lançar duas moedas\", o espaço amostral seria: S={(h,h), (h,t), (t,h), (t,t)}, onde: h = cara (heads) e t = coroa (tails)."
   ]
  },
  {
   "cell_type": "markdown",
   "metadata": {},
   "source": [
    "- Variável aleatória\n",
    "\n",
    "    Uma função que associa a cada elemento do espaço amostral um número real. Variáveis aleatórias são, por convenção, representadas por letras maiúsculas. Por exemplo, considere o evento E: lançar duas moedas. Poderíamos definir uma variável aleatória X que conteria a quantidade de caras obtidas. Os valores possíveis para X seriam: X = 0, o que corresponde ao par (t,t); x = 1, representando os resultados (h,t) e (t,h); e, finalmente, X = 2, que corresponde ao resultado (h, h)."
   ]
  },
  {
   "cell_type": "markdown",
   "metadata": {},
   "source": [
    "- Distribuição de probabilidade\n",
    "\n",
    "    Modelo matemático que relaciona um valor de uma variável aleatória à sua probabilidade de ocorrência. Pode ser discreta, quando a variável medida só assume valores discretos (inteiros, naturais, enumerações, ou seja, valores enumeráveis - que podem ser contados), ou contínua, se a variável pode assumir valores contínuos (para os quais existem infinitos números entre dois valores quaisquer)."
   ]
  },
  {
   "cell_type": "markdown",
   "metadata": {},
   "source": [
    "- Distribuição normal\n",
    "\n",
    "    Esta é, provavelmente, a distribuição mais conhecida e utilizada, pois é aplicável a muitos fenômenos naturais. Também é chamada de \"Curva de Sino\" ou \"Curva Gaussiana\", em homenagem ao matemático Karl Friedrich Gauss. Quando os dados estão normalmente distribuídos, seu gráfico é simétrico ao redor da média deles, em um formato semelhante a um sino. Se calcularmos a área sob a curva entre dois pontos do gráfico de uma distribuição normal, ela será numericamente equivalente à probabilidade da variável aleatória representada tomar um valor entre esses pontos. Muitos algoritmos dependem de que os dados de entrada sidam uma distribuição normal ou, pelo menos, aproximem-se de uma."
   ]
  },
  {
   "cell_type": "markdown",
   "metadata": {},
   "source": [
    "#### Nível de confiança e margem de erro"
   ]
  },
  {
   "cell_type": "markdown",
   "metadata": {},
   "source": [
    "- Margem de erro\n",
    "\n",
    "    Número, para mais ou para menos, geralmente utilizado em pesquisas de opinião, que mostra quais são os limites máximos e mínimos em que sua estimativa se encontra.\n",
    "    Ex.: Um determinado candidato tenha 60% de intenção dos votos, com uma margem de erro de 4%. Significa dizer que entre 56% (60% - 4%) e 64% (60% + 4%) dos eleitores votarão no referido candidato."
   ]
  },
  {
   "cell_type": "markdown",
   "metadata": {},
   "source": [
    "- Nível de confiança\n",
    "\n",
    "    É probabilidade que o intervalo reflita, com segurança de 90%, 95% ou 99% toda a população pesquisada. Como não é possível fazer uma pesquisa com todos os eleitores, opta-se por usar o nível de confiança junto à margem de erro e encontrar um valor factível para a amostra dos dados."
   ]
  },
  {
   "cell_type": "markdown",
   "metadata": {},
   "source": [
    "- Z-Score\n",
    "\n",
    "    Nível de confiança é relacionado a um escore da distribuição normal, que é o quanto uma amostra está \"contida\" em uma distribuição igualitária de valores. Quanto mais próxima da distribuição normal, mais confiável é o resultado. Escore é assim definido:\n",
    "\n",
    "        - 90% de confiança = Z escore 1,645\n",
    "        - 95% de confiança = Z escore 1,96\n",
    "        - 99% de confiança = Z escore 2,575"
   ]
  },
  {
   "cell_type": "markdown",
   "metadata": {},
   "source": [
    "- O cálculo da amostra, sem entrar nos detalhes de desvio padrão, média e distribuição normal, considerando o pior caso, utilizados em estatística, pode ser realizado com a fórmula:\n",
    "\n",
    "    $n = \\frac{Z^{2} * 0.25}{e^{2}}$ "
   ]
  },
  {
   "cell_type": "markdown",
   "metadata": {},
   "source": [
    "Onde n é o tamanho mínimo da amostra a ser utilizado, Z é o nível de confiança (90%, 95%, 99%), e é a margem de erro (2%, 1%, 5%). Essa fórmula pode ser utilizada quando o número da população for grande, passando de 100 mil."
   ]
  },
  {
   "cell_type": "markdown",
   "metadata": {},
   "source": [
    "De maneira geral, não se deve usar amostras com menos de 50 elementos, visto que somente a partir de 30 elementos uma amostra começa a se aproximar da distribuição normal."
   ]
  },
  {
   "cell_type": "markdown",
   "metadata": {},
   "source": [
    "#### Etapas de um projeto de análise de dados"
   ]
  },
  {
   "cell_type": "markdown",
   "metadata": {},
   "source": []
  }
 ],
 "metadata": {
  "language_info": {
   "name": "python"
  }
 },
 "nbformat": 4,
 "nbformat_minor": 2
}
