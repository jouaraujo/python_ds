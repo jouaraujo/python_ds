{
 "cells": [
  {
   "cell_type": "markdown",
   "metadata": {},
   "source": [
    "#### Estruturas de Repetição"
   ]
  },
  {
   "cell_type": "code",
   "execution_count": 1,
   "metadata": {},
   "outputs": [],
   "source": [
    "# while"
   ]
  },
  {
   "cell_type": "code",
   "execution_count": 2,
   "metadata": {},
   "outputs": [
    {
     "data": {
      "text/plain": [
       "'\\nO loop while serve para executar um determinado suíte de código, enquanto (\"while\")\\numa certa condição for satisfeita.\\n'"
      ]
     },
     "execution_count": 2,
     "metadata": {},
     "output_type": "execute_result"
    }
   ],
   "source": [
    "'''\n",
    "O loop while serve para executar um determinado suíte de código, enquanto (\"while\")\n",
    "uma certa condição for satisfeita.\n",
    "'''"
   ]
  },
  {
   "cell_type": "code",
   "execution_count": 3,
   "metadata": {},
   "outputs": [],
   "source": [
    "# while condição:\n",
    "#     suíte"
   ]
  },
  {
   "cell_type": "code",
   "execution_count": 8,
   "metadata": {},
   "outputs": [
    {
     "name": "stdout",
     "output_type": "stream",
     "text": [
      "produtório = 2432902008176640000\n"
     ]
    }
   ],
   "source": [
    "# ex.: Produtório\n",
    "n = 20\n",
    "contador = 0\n",
    "x1 = 1\n",
    "x2 = 1\n",
    "resultado = 1\n",
    "\n",
    "while (contador < n):\n",
    "    contador = contador + 1\n",
    "    resultado = resultado * contador\n",
    "print(f'produtório = {resultado}')"
   ]
  },
  {
   "cell_type": "code",
   "execution_count": null,
   "metadata": {},
   "outputs": [],
   "source": [
    "# loops infinitos\n",
    "x = 1\n",
    "while (x > 0):\n",
    "    print(x) # ctrl + c para interromper a execução do programa"
   ]
  },
  {
   "cell_type": "code",
   "execution_count": null,
   "metadata": {},
   "outputs": [],
   "source": [
    "'''\n",
    "Uma variação do loop while permite incluir uma cláusula else, semelhante à\n",
    "apresentada no capítulo passado para condicionais.\n",
    "'''"
   ]
  },
  {
   "cell_type": "code",
   "execution_count": 11,
   "metadata": {},
   "outputs": [],
   "source": [
    "# while condição:\n",
    "#     suíte_1\n",
    "# else:\n",
    "#     suíte_2"
   ]
  },
  {
   "cell_type": "code",
   "execution_count": null,
   "metadata": {},
   "outputs": [],
   "source": [
    "'''\n",
    "Que significa: enquanto condição for True, execute suíte_1; quando condição\n",
    "retornar False, execute suíte_2.\n",
    "'''"
   ]
  },
  {
   "cell_type": "code",
   "execution_count": 13,
   "metadata": {},
   "outputs": [],
   "source": [
    "# Loop for"
   ]
  },
  {
   "cell_type": "code",
   "execution_count": null,
   "metadata": {},
   "outputs": [],
   "source": [
    "'''\n",
    "Ele é bastante usado para iterar sobre coleções (como listas, tuplas, etc.)\n",
    "'''"
   ]
  },
  {
   "cell_type": "code",
   "execution_count": 18,
   "metadata": {},
   "outputs": [
    {
     "name": "stdout",
     "output_type": "stream",
     "text": [
      "A cidade atualmente examinada é Aliança\n",
      "A cidade atualmente examinada é Belo Jardim\n",
      "A cidade atualmente examinada é Caruaru\n",
      "A cidade atualmente examinada é Petrolina\n"
     ]
    }
   ],
   "source": [
    "# para iterar sobre uma coleção\n",
    "cidades = ['Aliança', 'Belo Jardim', 'Caruaru', 'Petrolina']\n",
    "\n",
    "for cidade_atual in cidades:\n",
    "    print(f'A cidade atualmente examinada é {cidade_atual}')"
   ]
  },
  {
   "cell_type": "code",
   "execution_count": 19,
   "metadata": {},
   "outputs": [],
   "source": [
    "# para iterar um número predeterminado de vezes"
   ]
  },
  {
   "cell_type": "code",
   "execution_count": 20,
   "metadata": {},
   "outputs": [
    {
     "data": {
      "text/plain": [
       "'\\nSe quiser repetir um suíte um número específico de vezes, combine um loop for\\ncom a função range().\\n'"
      ]
     },
     "execution_count": 20,
     "metadata": {},
     "output_type": "execute_result"
    }
   ],
   "source": [
    "'''\n",
    "Se quiser repetir um suíte um número específico de vezes, combine um loop for\n",
    "com a função range().\n",
    "'''"
   ]
  },
  {
   "cell_type": "code",
   "execution_count": 21,
   "metadata": {},
   "outputs": [
    {
     "name": "stdout",
     "output_type": "stream",
     "text": [
      "Aprendendo Python do jeito simples.\n",
      "Aprendendo Python do jeito simples.\n",
      "Aprendendo Python do jeito simples.\n",
      "Aprendendo Python do jeito simples.\n",
      "Aprendendo Python do jeito simples.\n",
      "Aprendendo Python do jeito simples.\n",
      "Aprendendo Python do jeito simples.\n",
      "Aprendendo Python do jeito simples.\n",
      "Aprendendo Python do jeito simples.\n",
      "Aprendendo Python do jeito simples.\n",
      "Aprendendo Python do jeito simples.\n",
      "Aprendendo Python do jeito simples.\n",
      "Aprendendo Python do jeito simples.\n",
      "Aprendendo Python do jeito simples.\n",
      "Aprendendo Python do jeito simples.\n",
      "Aprendendo Python do jeito simples.\n",
      "Aprendendo Python do jeito simples.\n",
      "Aprendendo Python do jeito simples.\n",
      "Aprendendo Python do jeito simples.\n",
      "Aprendendo Python do jeito simples.\n"
     ]
    }
   ],
   "source": [
    "for x in range(20):\n",
    "    print('Aprendendo Python do jeito simples.')"
   ]
  },
  {
   "cell_type": "code",
   "execution_count": 26,
   "metadata": {},
   "outputs": [
    {
     "name": "stdout",
     "output_type": "stream",
     "text": [
      "imprimindo os números de 0 a 9:\n",
      "0, 1, 2, 3, 4, 5, 6, 7, 8, 9, \n",
      "imprimindo os números de 1 a 10:\n",
      "1, 2, 3, 4, 5, 6, 7, 8, 9, 10, \n",
      "imprimindo os números IMPARES de 1 a 10:\n",
      "1, 3, 5, 7, 9, \n",
      "imprimindo os números PARES de 0 a 10:\n",
      "0, 2, 4, 6, 8, 10, \\contagem regressiva de 10 a 0:\n",
      "10, 9, 8, 7, 6, 5, 4, 3, 2, 1, 0, "
     ]
    }
   ],
   "source": [
    "print('imprimindo os números de 0 a 9:')\n",
    "for x in range(10):\n",
    "    print(x, end=', ')\n",
    "print('\\nimprimindo os números de 1 a 10:')\n",
    "for x in range(1, 11):\n",
    "    print(x, end=', ')\n",
    "print('\\nimprimindo os números IMPARES de 1 a 10:')\n",
    "for x in range(1, 11, 2):\n",
    "    print(x, end=', ')\n",
    "print('\\nimprimindo os números PARES de 0 a 10:')\n",
    "for x in range(0, 11, 2):\n",
    "    print(x, end=', ')\n",
    "print('\\contagem regressiva de 10 a 0:')\n",
    "for x in range(10, -1, -1):\n",
    "    print(x, end=', ')"
   ]
  },
  {
   "cell_type": "markdown",
   "metadata": {},
   "source": [
    "- range(n):\n",
    "\n",
    "    Retorna uma sequência de n inteiros, iniciados em zero, ou seja, os \n",
    "    inteiros de 0 a n-1\n",
    "\n",
    "- range(a, b):\n",
    "\n",
    "    Retorna os inteiros entre a(inclusive) e b(exclusive). Ex.: range(1, 10)\n",
    "    retornará os inteiros de 1 a 9\n",
    "\n",
    "- range(a, b, s):\n",
    "\n",
    "    Retorna os inteiros entre a e b, saltando s a cada incremento. Ex.:\n",
    "    range(1, 10, 2) retornará os inteiros de 1 a 9, saltando de 2 em 2,\n",
    "    ou seja, os ímpares de 1 a 9.\n",
    "\n",
    "- range(a, b, -s):\n",
    "\n",
    "    Retorna os inteiros entre a e b, regressivamente, saltando -s a cada\n",
    "    incremento. Nesse caso, necessariamente, a deve ser maior que b.\n",
    "    Se essa condição não for satisfeita, nada será retornado. Ex.:\n",
    "    range(10, -1, -1) retornará os inteiros de 10 a 0, em ordem decrescente."
   ]
  },
  {
   "cell_type": "code",
   "execution_count": 27,
   "metadata": {},
   "outputs": [],
   "source": [
    "# Para obter informações de coleções relacionadas"
   ]
  },
  {
   "cell_type": "code",
   "execution_count": 28,
   "metadata": {},
   "outputs": [
    {
     "data": {
      "text/plain": [
       "'\\npor meio da função enumerate(), você pode iterar sobre os dados de uma coleção,\\nbem como o índice atual da iteração.\\n'"
      ]
     },
     "execution_count": 28,
     "metadata": {},
     "output_type": "execute_result"
    }
   ],
   "source": [
    "'''\n",
    "por meio da função enumerate(), você pode iterar sobre os dados de uma coleção,\n",
    "bem como o índice atual da iteração.\n",
    "'''"
   ]
  },
  {
   "cell_type": "code",
   "execution_count": 29,
   "metadata": {},
   "outputs": [],
   "source": [
    "# for índice variável in enumerate(coleção)"
   ]
  },
  {
   "cell_type": "markdown",
   "metadata": {},
   "source": [
    "- **índice** - Conterá o valor atual do índice da informação iterada pelo loop\n",
    "\n",
    "- **variável** - Conterá o dado real na posição apontada pelo índice no loop\n",
    "\n",
    "- **coleção** - Coleção de dados que fornecerá os resultados"
   ]
  },
  {
   "cell_type": "code",
   "execution_count": 30,
   "metadata": {},
   "outputs": [
    {
     "name": "stdout",
     "output_type": "stream",
     "text": [
      "Nome: Alice - Nota: 9.5\n",
      "Nome: Bob - Nota: 8.0\n",
      "Nome: Carl - Nota: 9.5\n",
      "Nome: Daniele - Nota: 8.0\n"
     ]
    }
   ],
   "source": [
    "alunos = ['Alice', 'Bob', 'Carl', 'Daniele']\n",
    "\n",
    "notas = [9.5, 8.0, 9.5, 8.0]\n",
    "\n",
    "for indice, aluno in enumerate(alunos):\n",
    "    print(f'Nome: {aluno} - Nota: {notas[indice]}')"
   ]
  },
  {
   "cell_type": "code",
   "execution_count": 31,
   "metadata": {},
   "outputs": [],
   "source": [
    "# para iterar sobre uma string"
   ]
  },
  {
   "cell_type": "code",
   "execution_count": 33,
   "metadata": {},
   "outputs": [
    {
     "name": "stdout",
     "output_type": "stream",
     "text": [
      "C\n",
      "o\n",
      "n\n",
      "h\n",
      "e\n",
      "c\n",
      "e\n",
      "n\n",
      "d\n",
      "o\n",
      " \n",
      "o\n",
      " \n",
      "P\n",
      "y\n",
      "t\n",
      "h\n",
      "o\n",
      "n\n"
     ]
    }
   ],
   "source": [
    "frase = 'Conhecendo o Python'\n",
    "\n",
    "for c in frase:\n",
    "    print(c)"
   ]
  },
  {
   "cell_type": "code",
   "execution_count": 34,
   "metadata": {},
   "outputs": [],
   "source": [
    "# implementando um do..while com o loop while"
   ]
  },
  {
   "cell_type": "code",
   "execution_count": 36,
   "metadata": {},
   "outputs": [
    {
     "name": "stdout",
     "output_type": "stream",
     "text": [
      "O valor total dos produtos é R$ 61.00\n"
     ]
    }
   ],
   "source": [
    "continua = 'S'\n",
    "somatorio = 0.0\n",
    "quantidade = 0\n",
    "\n",
    "while(continua == 'S'):\n",
    "    preco = float(input('Entre com o preço do próximo produto:'))\n",
    "    somatorio = somatorio + preco\n",
    "    continua = input('Acrescentar mais produtos?(S/N)')\n",
    "print(f'O valor total dos produtos é R$ {somatorio:.2f}')"
   ]
  },
  {
   "cell_type": "code",
   "execution_count": 37,
   "metadata": {},
   "outputs": [],
   "source": [
    "# loops aninhados"
   ]
  },
  {
   "cell_type": "code",
   "execution_count": 41,
   "metadata": {},
   "outputs": [
    {
     "name": "stdout",
     "output_type": "stream",
     "text": [
      "Você pode combinar uma camiseta azul com um short branco\n",
      "Você pode combinar uma camiseta azul com um short preto\n",
      "Você pode combinar uma camiseta vermelha com um short branco\n",
      "Você pode combinar uma camiseta vermelha com um short preto\n",
      "Você pode combinar uma camiseta amarela com um short branco\n",
      "Você pode combinar uma camiseta amarela com um short preto\n"
     ]
    }
   ],
   "source": [
    "camisetas = ['azul', 'vermelha', 'amarela']\n",
    "shorts = ['branco', 'preto']\n",
    "\n",
    "x = 0\n",
    "y = 0\n",
    "for x in range(3):\n",
    "    for y in range(2):\n",
    "        print(f'Você pode combinar uma camiseta {camisetas[x]} com um short {shorts[y]}')"
   ]
  },
  {
   "cell_type": "code",
   "execution_count": 43,
   "metadata": {},
   "outputs": [
    {
     "name": "stdout",
     "output_type": "stream",
     "text": [
      "Você pode combinar uma camiseta azul com um short branco\n",
      "Você pode combinar uma camiseta azul com um short preto\n",
      "Você pode combinar uma camiseta vermelha com um short branco\n",
      "Você pode combinar uma camiseta vermelha com um short preto\n",
      "Você pode combinar uma camiseta amarela com um short branco\n",
      "Você pode combinar uma camiseta amarela com um short preto\n"
     ]
    }
   ],
   "source": [
    "camisetas = ['azul', 'vermelha', 'amarela']\n",
    "shorts = ['branco', 'preto']\n",
    "\n",
    "x = 0 \n",
    "y = 0\n",
    "for cor_camiseta in camisetas:\n",
    "    for cor_short in shorts:\n",
    "        print(f'Você pode combinar uma camiseta {cor_camiseta} com um short {cor_short}')"
   ]
  },
  {
   "cell_type": "code",
   "execution_count": 44,
   "metadata": {},
   "outputs": [],
   "source": [
    "# instruções break e continue"
   ]
  },
  {
   "cell_type": "code",
   "execution_count": 45,
   "metadata": {},
   "outputs": [
    {
     "name": "stdout",
     "output_type": "stream",
     "text": [
      "x = 1\n",
      "x = 2\n",
      "x = 3\n",
      "x = 4\n",
      "O programa terminou!\n"
     ]
    }
   ],
   "source": [
    "x = 0\n",
    "while (x < 10):\n",
    "    x = x + 1\n",
    "    if (x == 5):\n",
    "        break\n",
    "    print(f'x = {x}')\n",
    "print('O programa terminou!')"
   ]
  },
  {
   "cell_type": "code",
   "execution_count": 46,
   "metadata": {},
   "outputs": [],
   "source": [
    "# é muito comum, o break, para sair de loops quando não se sabe \n",
    "# antecipadamente o número total de iterações."
   ]
  },
  {
   "cell_type": "code",
   "execution_count": 48,
   "metadata": {},
   "outputs": [
    {
     "name": "stdout",
     "output_type": "stream",
     "text": [
      "O valor dos produtos é R$ 94.00\n"
     ]
    }
   ],
   "source": [
    "continua = 'S'\n",
    "somatorio = 0.0\n",
    "quantidade = 0\n",
    "\n",
    "while (True):\n",
    "    preco = float(input('Entre com o preço do próximo produto:'))\n",
    "    somatorio = somatorio + preco\n",
    "    continua = input('Acrescentar mais produtos?(S/N)')\n",
    "    if (continua != 'S'):\n",
    "        break\n",
    "print(f'O valor dos produtos é R$ {somatorio:.2f}')"
   ]
  },
  {
   "cell_type": "code",
   "execution_count": 49,
   "metadata": {},
   "outputs": [
    {
     "data": {
      "text/plain": [
       "'\\nEsse procedimento é bastante usado para carregar arquivos com informações\\nque serão processadas em lote.\\n'"
      ]
     },
     "execution_count": 49,
     "metadata": {},
     "output_type": "execute_result"
    }
   ],
   "source": [
    "'''\n",
    "Esse procedimento é bastante usado para carregar arquivos com informações\n",
    "que serão processadas em lote.\n",
    "'''"
   ]
  },
  {
   "cell_type": "code",
   "execution_count": 50,
   "metadata": {},
   "outputs": [],
   "source": [
    "# a instrução continue, por sua vez, serve para ignorar a iteração atual \n",
    "# na execução de um loop e voltar para o trecho do código onde sua condição\n",
    "# de parada é definida."
   ]
  },
  {
   "cell_type": "code",
   "execution_count": 51,
   "metadata": {},
   "outputs": [
    {
     "name": "stdout",
     "output_type": "stream",
     "text": [
      "Você digitou q\n",
      "Você digitou w\n",
      "Você digitou g\n",
      "Você digitou h\n",
      "Você digitou j\n",
      "programa encerrado!\n"
     ]
    }
   ],
   "source": [
    "while (True):\n",
    "    letra = input('Digite alguma letra diferente de X (Q para sair)')\n",
    "    if (letra == 'X'):\n",
    "        continue\n",
    "    elif (letra == 'Q'):\n",
    "        break\n",
    "    else:\n",
    "        print(f'Você digitou {letra}')\n",
    "print('programa encerrado!')"
   ]
  },
  {
   "cell_type": "code",
   "execution_count": 52,
   "metadata": {},
   "outputs": [],
   "source": [
    "# Compreensões de listas (List Comprehensions)"
   ]
  },
  {
   "cell_type": "code",
   "execution_count": 53,
   "metadata": {},
   "outputs": [],
   "source": [
    "# c1 = {x**3 | 0 <= x <=3}\n",
    "# c2 = {x | 0 <= x <= 20 e x é par}\n",
    "# c3 = {x | -20 <= x <= 40 e x é ímpar}\n",
    "\n",
    "# Enumerando elementos desses conjuntos, obteríamos\n",
    "c1 = {0, 1, 8, 27}\n",
    "c2 = {0, 2, 4, 6, 8, 10, 12, 14, 16, 18, 20}\n",
    "c3 = {-19, -17, -15, -13, -11, -9, -7, -5, -3, -1, 1, 3, 5, 7, 9, 11, 13, 15, 17, 19,\n",
    "      21, 23, 25, 27, 29, 31, 33, 35, 37, 39}"
   ]
  },
  {
   "cell_type": "code",
   "execution_count": 55,
   "metadata": {},
   "outputs": [
    {
     "name": "stdout",
     "output_type": "stream",
     "text": [
      "Entendendo List Comprehensions:\n",
      "c1 = {x**3 | 0 <= x <=3}\n",
      "[0, 1, 8, 27]\n",
      "x | 0 <= x <= 20 e x é par\n",
      "[0, 2, 4, 6, 8, 10, 12, 14, 16, 18, 20]\n",
      "x | -20 <= x <= 40 e x é ímpar\n",
      "[-19, -17, -15, -13, -11, -9, -7, -5, -3, -1, 1, 3, 5, 7, 9, 11, 13, 15, 17, 19, 21, 23, 25, 27, 29, 31, 33, 35, 37]\n"
     ]
    }
   ],
   "source": [
    "print('Entendendo List Comprehensions:')\n",
    "print('c1 = {x**3 | 0 <= x <=3}')\n",
    "c1 = [x**3 for x in range(4)]\n",
    "print(c1, sep=' ')\n",
    "print('x | 0 <= x <= 20 e x é par')\n",
    "c2 = [x*2 for x in range(0, 11)]\n",
    "print(c2, sep=' ')\n",
    "print('x | -20 <= x <= 40 e x é ímpar')\n",
    "c3 = [x*2 + 1 for x in range(-10, 19)]\n",
    "print(c3, sep=' ')"
   ]
  },
  {
   "cell_type": "code",
   "execution_count": 56,
   "metadata": {},
   "outputs": [],
   "source": [
    "# é comum utilizar list comprehensions para gerar dicionários e conjuntos a partir de \n",
    "# uma dada regra."
   ]
  },
  {
   "cell_type": "code",
   "execution_count": 57,
   "metadata": {},
   "outputs": [],
   "source": [
    "# outra técnica bastante comum é usar um símbolo de underscore (_)\n",
    "# como variável quando não for necessário usar o valor da variável."
   ]
  },
  {
   "cell_type": "code",
   "execution_count": null,
   "metadata": {},
   "outputs": [],
   "source": [
    "# primos = [False for _ in numeros]"
   ]
  },
  {
   "cell_type": "code",
   "execution_count": 60,
   "metadata": {},
   "outputs": [
    {
     "name": "stdout",
     "output_type": "stream",
     "text": [
      "Pares criados: [(0, 0), (0, 1), (0, 2), (0, 3), (0, 4), (0, 5), (0, 6), (1, 0), (1, 1), (1, 2), (1, 3), (1, 4), (1, 5), (1, 6), (2, 0), (2, 1), (2, 2), (2, 3), (2, 4), (2, 5), (2, 6), (3, 0), (3, 1), (3, 2), (3, 3), (3, 4), (3, 5), (3, 6), (4, 0), (4, 1), (4, 2), (4, 3), (4, 4), (4, 5), (4, 6), (5, 0), (5, 1), (5, 2), (5, 3), (5, 4), (5, 5), (5, 6), (6, 0), (6, 1), (6, 2), (6, 3), (6, 4), (6, 5), (6, 6)]\n"
     ]
    }
   ],
   "source": [
    "numeros = [(p1, p2)\n",
    "    for p1 in range(7)\n",
    "    for p2 in range(7)]\n",
    "print(f'Pares criados: {numeros}', sep=' ')"
   ]
  }
 ],
 "metadata": {
  "kernelspec": {
   "display_name": "base",
   "language": "python",
   "name": "python3"
  },
  "language_info": {
   "codemirror_mode": {
    "name": "ipython",
    "version": 3
   },
   "file_extension": ".py",
   "mimetype": "text/x-python",
   "name": "python",
   "nbconvert_exporter": "python",
   "pygments_lexer": "ipython3",
   "version": "3.11.7"
  }
 },
 "nbformat": 4,
 "nbformat_minor": 2
}
