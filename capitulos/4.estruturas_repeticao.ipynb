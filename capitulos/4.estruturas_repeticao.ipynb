{
 "cells": [
  {
   "cell_type": "markdown",
   "metadata": {},
   "source": [
    "#### Estruturas de Repetição"
   ]
  },
  {
   "cell_type": "code",
   "execution_count": 1,
   "metadata": {},
   "outputs": [],
   "source": [
    "# while"
   ]
  },
  {
   "cell_type": "code",
   "execution_count": 2,
   "metadata": {},
   "outputs": [
    {
     "data": {
      "text/plain": [
       "'\\nO loop while serve para executar um determinado suíte de código, enquanto (\"while\")\\numa certa condição for satisfeita.\\n'"
      ]
     },
     "execution_count": 2,
     "metadata": {},
     "output_type": "execute_result"
    }
   ],
   "source": [
    "'''\n",
    "O loop while serve para executar um determinado suíte de código, enquanto (\"while\")\n",
    "uma certa condição for satisfeita.\n",
    "'''"
   ]
  },
  {
   "cell_type": "code",
   "execution_count": 3,
   "metadata": {},
   "outputs": [],
   "source": [
    "# while condição:\n",
    "#     suíte"
   ]
  },
  {
   "cell_type": "code",
   "execution_count": 8,
   "metadata": {},
   "outputs": [
    {
     "name": "stdout",
     "output_type": "stream",
     "text": [
      "produtório = 2432902008176640000\n"
     ]
    }
   ],
   "source": [
    "# ex.: Produtório\n",
    "n = 20\n",
    "contador = 0\n",
    "x1 = 1\n",
    "x2 = 1\n",
    "resultado = 1\n",
    "\n",
    "while (contador < n):\n",
    "    contador = contador + 1\n",
    "    resultado = resultado * contador\n",
    "print(f'produtório = {resultado}')"
   ]
  },
  {
   "cell_type": "code",
   "execution_count": null,
   "metadata": {},
   "outputs": [],
   "source": [
    "# loops infinitos\n",
    "x = 1\n",
    "while (x > 0):\n",
    "    print(x) # ctrl + c para interromper a execução do programa"
   ]
  },
  {
   "cell_type": "code",
   "execution_count": null,
   "metadata": {},
   "outputs": [],
   "source": [
    "'''\n",
    "Uma variação do loop while permite incluir uma cláusula else, semelhante à\n",
    "apresentada no capítulo passado para condicionais.\n",
    "'''"
   ]
  },
  {
   "cell_type": "code",
   "execution_count": 11,
   "metadata": {},
   "outputs": [],
   "source": [
    "# while condição:\n",
    "#     suíte_1\n",
    "# else:\n",
    "#     suíte_2"
   ]
  },
  {
   "cell_type": "code",
   "execution_count": null,
   "metadata": {},
   "outputs": [],
   "source": [
    "'''\n",
    "Que significa: enquanto condição for True, execute suíte_1; quando condição\n",
    "retornar False, execute suíte_2.\n",
    "'''"
   ]
  },
  {
   "cell_type": "code",
   "execution_count": 13,
   "metadata": {},
   "outputs": [],
   "source": [
    "# Loop for"
   ]
  },
  {
   "cell_type": "code",
   "execution_count": null,
   "metadata": {},
   "outputs": [],
   "source": [
    "'''\n",
    "Ele é bastante usado para iterar sobre coleções (como listas, tuplas, etc.)\n",
    "'''"
   ]
  },
  {
   "cell_type": "code",
   "execution_count": 18,
   "metadata": {},
   "outputs": [
    {
     "name": "stdout",
     "output_type": "stream",
     "text": [
      "A cidade atualmente examinada é Aliança\n",
      "A cidade atualmente examinada é Belo Jardim\n",
      "A cidade atualmente examinada é Caruaru\n",
      "A cidade atualmente examinada é Petrolina\n"
     ]
    }
   ],
   "source": [
    "# para iterar sobre uma coleção\n",
    "cidades = ['Aliança', 'Belo Jardim', 'Caruaru', 'Petrolina']\n",
    "\n",
    "for cidade_atual in cidades:\n",
    "    print(f'A cidade atualmente examinada é {cidade_atual}')"
   ]
  },
  {
   "cell_type": "code",
   "execution_count": 19,
   "metadata": {},
   "outputs": [],
   "source": [
    "# para iterar um número predeterminado de vezes"
   ]
  },
  {
   "cell_type": "code",
   "execution_count": 20,
   "metadata": {},
   "outputs": [
    {
     "data": {
      "text/plain": [
       "'\\nSe quiser repetir um suíte um número específico de vezes, combine um loop for\\ncom a função range().\\n'"
      ]
     },
     "execution_count": 20,
     "metadata": {},
     "output_type": "execute_result"
    }
   ],
   "source": [
    "'''\n",
    "Se quiser repetir um suíte um número específico de vezes, combine um loop for\n",
    "com a função range().\n",
    "'''"
   ]
  },
  {
   "cell_type": "code",
   "execution_count": 21,
   "metadata": {},
   "outputs": [
    {
     "name": "stdout",
     "output_type": "stream",
     "text": [
      "Aprendendo Python do jeito simples.\n",
      "Aprendendo Python do jeito simples.\n",
      "Aprendendo Python do jeito simples.\n",
      "Aprendendo Python do jeito simples.\n",
      "Aprendendo Python do jeito simples.\n",
      "Aprendendo Python do jeito simples.\n",
      "Aprendendo Python do jeito simples.\n",
      "Aprendendo Python do jeito simples.\n",
      "Aprendendo Python do jeito simples.\n",
      "Aprendendo Python do jeito simples.\n",
      "Aprendendo Python do jeito simples.\n",
      "Aprendendo Python do jeito simples.\n",
      "Aprendendo Python do jeito simples.\n",
      "Aprendendo Python do jeito simples.\n",
      "Aprendendo Python do jeito simples.\n",
      "Aprendendo Python do jeito simples.\n",
      "Aprendendo Python do jeito simples.\n",
      "Aprendendo Python do jeito simples.\n",
      "Aprendendo Python do jeito simples.\n",
      "Aprendendo Python do jeito simples.\n"
     ]
    }
   ],
   "source": [
    "for x in range(20):\n",
    "    print('Aprendendo Python do jeito simples.')"
   ]
  },
  {
   "cell_type": "code",
   "execution_count": 26,
   "metadata": {},
   "outputs": [
    {
     "name": "stdout",
     "output_type": "stream",
     "text": [
      "imprimindo os números de 0 a 9:\n",
      "0, 1, 2, 3, 4, 5, 6, 7, 8, 9, \n",
      "imprimindo os números de 1 a 10:\n",
      "1, 2, 3, 4, 5, 6, 7, 8, 9, 10, \n",
      "imprimindo os números IMPARES de 1 a 10:\n",
      "1, 3, 5, 7, 9, \n",
      "imprimindo os números PARES de 0 a 10:\n",
      "0, 2, 4, 6, 8, 10, \\contagem regressiva de 10 a 0:\n",
      "10, 9, 8, 7, 6, 5, 4, 3, 2, 1, 0, "
     ]
    }
   ],
   "source": [
    "print('imprimindo os números de 0 a 9:')\n",
    "for x in range(10):\n",
    "    print(x, end=', ')\n",
    "print('\\nimprimindo os números de 1 a 10:')\n",
    "for x in range(1, 11):\n",
    "    print(x, end=', ')\n",
    "print('\\nimprimindo os números IMPARES de 1 a 10:')\n",
    "for x in range(1, 11, 2):\n",
    "    print(x, end=', ')\n",
    "print('\\nimprimindo os números PARES de 0 a 10:')\n",
    "for x in range(0, 11, 2):\n",
    "    print(x, end=', ')\n",
    "print('\\contagem regressiva de 10 a 0:')\n",
    "for x in range(10, -1, -1):\n",
    "    print(x, end=', ')"
   ]
  },
  {
   "cell_type": "markdown",
   "metadata": {},
   "source": [
    "- range(n):\n",
    "\n",
    "    Retorna uma sequência de n inteiros, iniciados em zero, ou seja, os \n",
    "    inteiros de 0 a n-1\n",
    "\n",
    "- range(a, b):\n",
    "\n",
    "    Retorna os inteiros entre a(inclusive) e b(exclusive). Ex.: range(1, 10)\n",
    "    retornará os inteiros de 1 a 9\n",
    "\n",
    "- range(a, b, s):\n",
    "\n",
    "    Retorna os inteiros entre a e b, saltando s a cada incremento. Ex.:\n",
    "    range(1, 10, 2) retornará os inteiros de 1 a 9, saltando de 2 em 2,\n",
    "    ou seja, os ímpares de 1 a 9.\n",
    "\n",
    "- range(a, b, -s):\n",
    "\n",
    "    Retorna os inteiros entre a e b, regressivamente, saltando -s a cada\n",
    "    incremento. Nesse caso, necessariamente, a deve ser maior que b.\n",
    "    Se essa condição não for satisfeita, nada será retornado. Ex.:\n",
    "    range(10, -1, -1) retornará os inteiros de 10 a 0, em ordem decrescente."
   ]
  },
  {
   "cell_type": "code",
   "execution_count": 27,
   "metadata": {},
   "outputs": [],
   "source": [
    "# Para obter informações de coleções relacionadas"
   ]
  },
  {
   "cell_type": "code",
   "execution_count": null,
   "metadata": {},
   "outputs": [],
   "source": []
  }
 ],
 "metadata": {
  "kernelspec": {
   "display_name": "base",
   "language": "python",
   "name": "python3"
  },
  "language_info": {
   "codemirror_mode": {
    "name": "ipython",
    "version": 3
   },
   "file_extension": ".py",
   "mimetype": "text/x-python",
   "name": "python",
   "nbconvert_exporter": "python",
   "pygments_lexer": "ipython3",
   "version": "3.11.7"
  }
 },
 "nbformat": 4,
 "nbformat_minor": 2
}
